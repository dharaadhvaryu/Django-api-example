{
  "cells": [
    {
      "cell_type": "markdown",
      "metadata": {
        "id": "view-in-github",
        "colab_type": "text"
      },
      "source": [
        "<a href=\"https://colab.research.google.com/github/dharaadhvaryu/Django-api-example/blob/master/Module_2_File_1.ipynb\" target=\"_parent\"><img src=\"https://colab.research.google.com/assets/colab-badge.svg\" alt=\"Open In Colab\"/></a>"
      ]
    },
    {
      "cell_type": "code",
      "execution_count": null,
      "id": "62279b5d",
      "metadata": {
        "id": "62279b5d"
      },
      "outputs": [],
      "source": [
        "#1. Create a function named ‘factor’ that can only accept 1 argument. The function should return the factorial of that number.\n",
        "\n",
        "def factor(a):\n",
        "    fact = 1\n",
        "    for i in range(1,a):\n",
        "        fact = fact + fact*i\n",
        "        print(fact)\n",
        "    return fact\n",
        "#factor(8)"
      ]
    },
    {
      "cell_type": "code",
      "execution_count": null,
      "id": "0c2c1a1d",
      "metadata": {
        "id": "0c2c1a1d",
        "outputId": "69232abd-ad64-4cae-c867-abed1a30c114"
      },
      "outputs": [
        {
          "name": "stdout",
          "output_type": "stream",
          "text": [
            "s is present\n"
          ]
        }
      ],
      "source": [
        "#2. Create a function named ‘check_string’, the function should accept a string data from the\n",
        "#user and the function should check if the user input contains the letter ‘s’ in it. If it contains\n",
        "#the letter ‘s’ then print- ‘The string is containing the letter ‘s’’, if not then print- ‘The string\n",
        "#doesn’t contain the letter ‘s’’.\n",
        "def check_string(s):\n",
        "    flag = False\n",
        "    for i in s:\n",
        "        if(i=='s'):\n",
        "            flag = True\n",
        "        else:\n",
        "            flag = False\n",
        "    if(flag):\n",
        "        print('s is present')\n",
        "    else:\n",
        "        print('s is not present')\n",
        "check_string('ofnfijvn cdjkjgfbs')"
      ]
    },
    {
      "cell_type": "code",
      "execution_count": null,
      "id": "44bd838f",
      "metadata": {
        "id": "44bd838f",
        "outputId": "bb66cba4-063a-4b24-b9c3-ac72c761eb5f"
      },
      "outputs": [
        {
          "name": "stdout",
          "output_type": "stream",
          "text": [
            "Please enter your input : 4\n",
            "4\n"
          ]
        }
      ],
      "source": [
        "#3. Create a class named ‘student’ and inside the class, create a function named ‘fun1’- this\n",
        "#method should accept the user defined input and return that value.\n",
        "#a. Create another method named- message() and that method should print the user\n",
        "#defined input that we have defined in ‘fun1’.\n",
        "\n",
        "class students():\n",
        "    def fun1(self):\n",
        "        x=int(input(\"Please enter your input : \"))\n",
        "        return x\n",
        "    def message(self):\n",
        "        print(self.fun1())\n",
        "\n",
        "obj = students()\n",
        "obj.message()"
      ]
    },
    {
      "cell_type": "code",
      "execution_count": null,
      "id": "e0e9fed3",
      "metadata": {
        "id": "e0e9fed3",
        "outputId": "79a45870-ea56-493c-834c-94e61b2a6494"
      },
      "outputs": [
        {
          "data": {
            "text/plain": [
              "8"
            ]
          },
          "execution_count": 28,
          "metadata": {},
          "output_type": "execute_result"
        }
      ],
      "source": [
        "#4. Create a lambda function that should double or multiply the number (that we will be passing\n",
        "#in the lambda function) by 2. Store the lambda function in a variable named ‘double_num’\n",
        "\n",
        "double_num = lambda x : x*2\n",
        "double_num(4)"
      ]
    },
    {
      "cell_type": "code",
      "execution_count": null,
      "id": "16bd837e",
      "metadata": {
        "id": "16bd837e",
        "outputId": "097e6e67-42cf-4652-b92b-3229bb66f22d"
      },
      "outputs": [
        {
          "name": "stdout",
          "output_type": "stream",
          "text": [
            "Enter Stringdad\n",
            "Palindrome\n"
          ]
        }
      ],
      "source": [
        "#5. Take the user input string and check whether that string is palindrome or not\n",
        "\n",
        "string = input('Enter String')\n",
        "\n",
        "str1 = string[::-1]\n",
        "if(string == str1):\n",
        "    print('Palindrome')\n",
        "else:\n",
        "    print('Not Palindrome')"
      ]
    },
    {
      "cell_type": "code",
      "execution_count": null,
      "id": "d175e98a",
      "metadata": {
        "id": "d175e98a"
      },
      "outputs": [],
      "source": [
        "#6. Create a class named ‘Super’ and inside that class define a user-defined function named fun1.\n",
        "#a. Inside the ‘fun1’ function, pass the message “This is function 1 in the Super class.” in the print statement\n",
        "\n",
        "class Super:\n",
        "    def fun1(self):\n",
        "        print('This is function 1 in the Super class')"
      ]
    },
    {
      "cell_type": "markdown",
      "id": "491fde14",
      "metadata": {
        "id": "491fde14"
      },
      "source": [
        "7. Create another class named ‘Modified_Super’ and inherit this class from the Super class.\n",
        "\n",
        "a. Inside the Modified_Super class, create a function named ‘fun1’ and pass the\n",
        "following message inside the print statement: ‘This is function 1 in the Modified\n",
        "Super class.’\n",
        "\n",
        "b. Create another user-defined function named ‘fun2’ and pass the message: ‘This is\n",
        "the 2nd function from the Modified Super class’ in the print statement.\n",
        "\n",
        "c. After that, now create an object for the Modified_Super class and call the fun1().\n"
      ]
    },
    {
      "cell_type": "code",
      "execution_count": null,
      "id": "f9e9b0c7",
      "metadata": {
        "id": "f9e9b0c7",
        "outputId": "6d5f59fd-a4dc-4af7-81a2-9a881cb16dd7"
      },
      "outputs": [
        {
          "name": "stdout",
          "output_type": "stream",
          "text": [
            "This is function 1 in the Modified Super class\n"
          ]
        }
      ],
      "source": [
        "class modified_super(Super):\n",
        "    def fun1(self):\n",
        "        print('This is function 1 in the Modified Super class')\n",
        "    def fun2(self):\n",
        "        print('This is the 2nd function from the Modified Super class')\n",
        "obj = modified_super()\n",
        "obj.fun1()"
      ]
    },
    {
      "cell_type": "markdown",
      "id": "ee4a4836",
      "metadata": {
        "id": "ee4a4836"
      },
      "source": [
        "8. Create 2 methods named ‘Hello’. In the 1st Hello method, pass only one argument and pass\n",
        "this message: ‘This function only has 1 argument’. And in the 2nd Hello method, pass\n",
        "two arguments and pass this message: ‘This function has 2 arguments’.\n",
        "a. Try to call both the methods and analyze the output of both the methods.\n",
        "\n",
        "---\n",
        "\n"
      ]
    },
    {
      "cell_type": "code",
      "execution_count": 2,
      "id": "cafe9c18",
      "metadata": {
        "id": "cafe9c18",
        "outputId": "c6a7d8b8-0ea7-493c-dd7b-b45e7c884c32",
        "colab": {
          "base_uri": "https://localhost:8080/"
        }
      },
      "outputs": [
        {
          "output_type": "stream",
          "name": "stdout",
          "text": [
            "This function is having 2arguments\n",
            "This function is having only one argument\n"
          ]
        }
      ],
      "source": [
        "class hello1():\n",
        "    def Hello(self,*args):\n",
        "        if(len(args)==1):\n",
        "          print(\"This function is having only one argument\")\n",
        "        else:\n",
        "          print(\"This function is having 2arguments\")\n",
        "\n",
        "obj=hello1()\n",
        "obj.Hello(2,3)\n",
        "obj.Hello(1)"
      ]
    },
    {
      "cell_type": "code",
      "execution_count": null,
      "id": "174f637a",
      "metadata": {
        "id": "174f637a",
        "outputId": "d8af4823-9193-4e61-9e28-368316a640f8"
      },
      "outputs": [
        {
          "name": "stdout",
          "output_type": "stream",
          "text": [
            "Enter Number of Inputs5\n",
            "Enter Number :   1\n",
            "Enter Number :   2\n",
            "Enter Number :   3\n",
            "Enter Number :   4\n",
            "Enter Number :   5\n"
          ]
        },
        {
          "data": {
            "text/plain": [
              "15"
            ]
          },
          "execution_count": 39,
          "metadata": {},
          "output_type": "execute_result"
        }
      ],
      "source": [
        "#9. Create a method named ‘Sum’ that can accept multiple user inputs.\n",
        "#Now add those userdefined input values using for loop and the function should return the addition of the numbers.\n",
        "\n",
        "num = int(input('Enter Number of Inputs'))\n",
        "def Sum(num):\n",
        "    s = 0\n",
        "    for i in range(num):\n",
        "        n = int(input('Enter Number :   '))\n",
        "        s += n\n",
        "    return s\n",
        "Sum(num)"
      ]
    },
    {
      "cell_type": "markdown",
      "id": "f7d63ab1",
      "metadata": {
        "id": "f7d63ab1"
      },
      "source": [
        "10. Create a class named ‘Encapsulation’:\n",
        "a. Inside the class, first create a constructor. Inside the constructor, initialize\n",
        "originalValue variable as 10.\n",
        "b. After creating the constructor, define a function named ‘Value’ and this function\n",
        "should return the variable that we have initialized in the constructor.\n",
        "c. Now create 2nd function named setValue, and pass an argument named\n",
        "‘newValue’. The task of this function will be to replace the value of the\n",
        "originalValue variable by the value of the newValue variable."
      ]
    },
    {
      "cell_type": "code",
      "execution_count": null,
      "id": "647d2063",
      "metadata": {
        "id": "647d2063",
        "outputId": "72f42ef3-e768-4114-8dc7-fa30925078e3"
      },
      "outputs": [
        {
          "name": "stdout",
          "output_type": "stream",
          "text": [
            "10\n",
            "35\n",
            "35\n"
          ]
        }
      ],
      "source": [
        "class Encapsulation():\n",
        "    def __init__(self):\n",
        "        self.originalvalue=10\n",
        "    def value(self):\n",
        "        print(self.originalvalue)\n",
        "    def Setvalue(self,newvalue):\n",
        "        self.originalvalue=newvalue\n",
        "        print(self.originalvalue)\n",
        "\n",
        "object1=Encapsulation()\n",
        "object1.value()\n",
        "object1.Setvalue(35)\n",
        "object1.value()"
      ]
    },
    {
      "cell_type": "code",
      "execution_count": null,
      "id": "06ecac1f",
      "metadata": {
        "id": "06ecac1f"
      },
      "outputs": [],
      "source": []
    },
    {
      "cell_type": "code",
      "execution_count": null,
      "id": "affdb646",
      "metadata": {
        "id": "affdb646"
      },
      "outputs": [],
      "source": []
    },
    {
      "cell_type": "code",
      "execution_count": null,
      "id": "9f882362",
      "metadata": {
        "id": "9f882362"
      },
      "outputs": [],
      "source": []
    },
    {
      "cell_type": "code",
      "execution_count": null,
      "id": "ac2c489d",
      "metadata": {
        "id": "ac2c489d"
      },
      "outputs": [],
      "source": []
    },
    {
      "cell_type": "code",
      "execution_count": null,
      "id": "8d6babb7",
      "metadata": {
        "id": "8d6babb7"
      },
      "outputs": [],
      "source": []
    },
    {
      "cell_type": "code",
      "execution_count": null,
      "id": "d5d03822",
      "metadata": {
        "id": "d5d03822"
      },
      "outputs": [],
      "source": []
    }
  ],
  "metadata": {
    "kernelspec": {
      "display_name": "Python 3",
      "language": "python",
      "name": "python3"
    },
    "language_info": {
      "codemirror_mode": {
        "name": "ipython",
        "version": 3
      },
      "file_extension": ".py",
      "mimetype": "text/x-python",
      "name": "python",
      "nbconvert_exporter": "python",
      "pygments_lexer": "ipython3",
      "version": "3.8.8"
    },
    "colab": {
      "provenance": [],
      "include_colab_link": true
    }
  },
  "nbformat": 4,
  "nbformat_minor": 5
}