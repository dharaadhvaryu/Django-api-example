{
  "nbformat": 4,
  "nbformat_minor": 0,
  "metadata": {
    "colab": {
      "provenance": [],
      "authorship_tag": "ABX9TyN1IzMrEf/8Ac9lh0YWrcwk",
      "include_colab_link": true
    },
    "kernelspec": {
      "name": "python3",
      "display_name": "Python 3"
    },
    "language_info": {
      "name": "python"
    }
  },
  "cells": [
    {
      "cell_type": "markdown",
      "metadata": {
        "id": "view-in-github",
        "colab_type": "text"
      },
      "source": [
        "<a href=\"https://colab.research.google.com/github/dharaadhvaryu/Django-api-example/blob/master/pythonBasics3.ipynb\" target=\"_parent\"><img src=\"https://colab.research.google.com/assets/colab-badge.svg\" alt=\"Open In Colab\"/></a>"
      ]
    },
    {
      "cell_type": "code",
      "execution_count": null,
      "metadata": {
        "id": "GmbQRJPET7lQ"
      },
      "outputs": [],
      "source": []
    },
    {
      "cell_type": "markdown",
      "source": [
        "Today's Agenda\n",
        "-> For loop\n",
        "->break and continue statement\n",
        "->Functions\n",
        "->List"
      ],
      "metadata": {
        "id": "_KX-R4t5UXIp"
      }
    },
    {
      "cell_type": "code",
      "source": [
        "print(range(5))"
      ],
      "metadata": {
        "colab": {
          "base_uri": "https://localhost:8080/"
        },
        "id": "SnICPm6QZJsp",
        "outputId": "e9cf2e7e-97b6-47c8-e3d5-2136dd89428c"
      },
      "execution_count": 1,
      "outputs": [
        {
          "output_type": "stream",
          "name": "stdout",
          "text": [
            "range(0, 5)\n"
          ]
        }
      ]
    },
    {
      "cell_type": "markdown",
      "source": [
        "Range()-> It is a function which generates a sequence of numbers.It is mainly used in loops to iterate over specific number of times .\n",
        "range(start,stop,step)\n",
        "start - starting value from where u want to start the range\n",
        "stop - value where you want to end .It is not inclusive\n",
        "step - how it will jump over numbers"
      ],
      "metadata": {
        "id": "1CW7Oa5rZNP8"
      }
    },
    {
      "cell_type": "code",
      "source": [
        "print(list(range(5))) #01234   n -> n-1"
      ],
      "metadata": {
        "colab": {
          "base_uri": "https://localhost:8080/"
        },
        "id": "TX4FMZtkaZNl",
        "outputId": "c7d20658-872f-4590-bd60-ccf7c0e0d2d1"
      },
      "execution_count": 2,
      "outputs": [
        {
          "output_type": "stream",
          "name": "stdout",
          "text": [
            "[0, 1, 2, 3, 4]\n"
          ]
        }
      ]
    },
    {
      "cell_type": "code",
      "source": [
        "print(list(range(1,11,2))) #all odd values"
      ],
      "metadata": {
        "colab": {
          "base_uri": "https://localhost:8080/"
        },
        "id": "lzq9G8PIaszi",
        "outputId": "a00b6a41-c728-407a-dcb5-970dae4f9132"
      },
      "execution_count": 4,
      "outputs": [
        {
          "output_type": "stream",
          "name": "stdout",
          "text": [
            "[1, 3, 5, 7, 9]\n"
          ]
        }
      ]
    },
    {
      "cell_type": "code",
      "source": [
        "for value in range(1,11,1):\n",
        "  print(value)"
      ],
      "metadata": {
        "colab": {
          "base_uri": "https://localhost:8080/"
        },
        "id": "y9X5_H8vbJ9D",
        "outputId": "337ebd28-ba9a-4a6f-9880-16ea6ba631ab"
      },
      "execution_count": 7,
      "outputs": [
        {
          "output_type": "stream",
          "name": "stdout",
          "text": [
            "1\n",
            "2\n",
            "3\n",
            "4\n",
            "5\n",
            "6\n",
            "7\n",
            "8\n",
            "9\n",
            "10\n"
          ]
        }
      ]
    },
    {
      "cell_type": "code",
      "source": [
        "print(range(1,11,1))"
      ],
      "metadata": {
        "colab": {
          "base_uri": "https://localhost:8080/"
        },
        "id": "prEYlpUYbiZM",
        "outputId": "7c06f99f-df37-45e3-a649-3720fa42d93c"
      },
      "execution_count": 8,
      "outputs": [
        {
          "output_type": "stream",
          "name": "stdout",
          "text": [
            "range(1, 11)\n"
          ]
        }
      ]
    },
    {
      "cell_type": "code",
      "source": [
        "arr = [1,2,3]  #array as variable containing multiple elements of same data type\n",
        "for value in arr:\n",
        "  print(value)"
      ],
      "metadata": {
        "colab": {
          "base_uri": "https://localhost:8080/"
        },
        "id": "Yj-UtLKvfjdM",
        "outputId": "74100154-4277-41ce-fffa-798ed6bde059"
      },
      "execution_count": 9,
      "outputs": [
        {
          "output_type": "stream",
          "name": "stdout",
          "text": [
            "1\n",
            "2\n",
            "3\n"
          ]
        }
      ]
    },
    {
      "cell_type": "code",
      "source": [
        "name = \"Tanya\"\n",
        "for c in name:\n",
        "  print(c)"
      ],
      "metadata": {
        "colab": {
          "base_uri": "https://localhost:8080/"
        },
        "id": "a2xwZAOWgE2b",
        "outputId": "29ddc123-976b-4852-bff2-dbe5021e811e"
      },
      "execution_count": 11,
      "outputs": [
        {
          "output_type": "stream",
          "name": "stdout",
          "text": [
            "T\n",
            "a\n",
            "n\n",
            "y\n",
            "a\n"
          ]
        }
      ]
    },
    {
      "cell_type": "markdown",
      "source": [
        "For loop -> It is used to iterate over a sequence or collection of elements (list,tuple,strings,range) and execute a code of block for each element in the sequence.\n",
        "for(i=0;i<n;i++)\n",
        "\n",
        "Syntax\n",
        "for variable in sequnce:\n",
        "  print(variable)\n",
        "variable -> which hold current element or element of sequence\n"
      ],
      "metadata": {
        "id": "5Kt0b14pb_VI"
      }
    },
    {
      "cell_type": "code",
      "source": [
        "#Nested loop\n",
        "for i in range(4):#0,1,2,3\n",
        "  for j in range(3):#0,1,2\n",
        "    print(i,j)"
      ],
      "metadata": {
        "colab": {
          "base_uri": "https://localhost:8080/"
        },
        "id": "6u5Bq3zZgpx5",
        "outputId": "ebdc3df5-0c49-4b60-dbe0-9166047223e4"
      },
      "execution_count": 12,
      "outputs": [
        {
          "output_type": "stream",
          "name": "stdout",
          "text": [
            "0 0\n",
            "0 1\n",
            "0 2\n",
            "1 0\n",
            "1 1\n",
            "1 2\n",
            "2 0\n",
            "2 1\n",
            "2 2\n",
            "3 0\n",
            "3 1\n",
            "3 2\n"
          ]
        }
      ]
    },
    {
      "cell_type": "code",
      "source": [
        "matrix = [[1,2,3],[4,5,6],[7,8,9]]\n",
        "for row in matrix:\n",
        "  #for ele in row:\n",
        "    print(row,end='')\n",
        ""
      ],
      "metadata": {
        "colab": {
          "base_uri": "https://localhost:8080/"
        },
        "id": "gRPDA4lDiJe3",
        "outputId": "185ebe74-dbdb-4bf1-910d-243ca60719ed"
      },
      "execution_count": 17,
      "outputs": [
        {
          "output_type": "stream",
          "name": "stdout",
          "text": [
            "[1, 2, 3][4, 5, 6][7, 8, 9]"
          ]
        }
      ]
    },
    {
      "cell_type": "markdown",
      "source": [
        "Break and continue\n",
        "It is used to alter the flow of loop\n",
        "Break -> Break statement terminates the loop immediately whenever it is encountered\n",
        "\n",
        "Continue -> Continue statement skips the current iteration of the loop and current flow of the program goes to next statement"
      ],
      "metadata": {
        "id": "RAS3fVMxkjWi"
      }
    },
    {
      "cell_type": "code",
      "source": [
        "for i in range(5):\n",
        "  if i==3:\n",
        "    break\n",
        "  print(i)"
      ],
      "metadata": {
        "colab": {
          "base_uri": "https://localhost:8080/"
        },
        "id": "p0vG5iSllT3I",
        "outputId": "1109c17b-c754-4ffc-b86c-a33ac75b4a29"
      },
      "execution_count": 18,
      "outputs": [
        {
          "output_type": "stream",
          "name": "stdout",
          "text": [
            "0\n",
            "1\n",
            "2\n"
          ]
        }
      ]
    },
    {
      "cell_type": "code",
      "source": [
        "for i in range(8):\n",
        "  if i == 5:\n",
        "    continue\n",
        "  print(i)"
      ],
      "metadata": {
        "colab": {
          "base_uri": "https://localhost:8080/"
        },
        "id": "6FjFnqjpmYk8",
        "outputId": "3806f5db-423b-49fe-8d9b-95dfd14fd681"
      },
      "execution_count": 20,
      "outputs": [
        {
          "output_type": "stream",
          "name": "stdout",
          "text": [
            "0\n",
            "1\n",
            "2\n",
            "3\n",
            "4\n",
            "6\n",
            "7\n"
          ]
        }
      ]
    },
    {
      "cell_type": "markdown",
      "source": [
        "Functions -> Function is a block of code written to complete a task .It runs when called externally and it return data as a result\n",
        "\n",
        "print() #calling a print function\n",
        "len()\n",
        "type()\n",
        "Abstraction-> hide implementation details providing higher level of view.\n",
        "Parametrisation: functions accepts parameters ,\n",
        "makes them versatile and adaptable to all inputs\n",
        "Organizing code: They help us organize code into logical blocks improving readablility and maintainability .\n",
        "\n",
        "Functions in python are essential for  structuring a program,improving code readability ,promoting reuse of code and enhancing maintability\n",
        "\n",
        "\n",
        "In python Function is defined by using def keyword"
      ],
      "metadata": {
        "id": "9lbaEMZfm9et"
      }
    },
    {
      "cell_type": "code",
      "source": [
        "#syntax\n",
        "\"\"\"\n",
        "def function_name(parameters):\n",
        "  statements -->block of code    ---> declaring a function or defining function\n",
        "  return\n",
        "\"\"\"\n",
        "#function_name(name) -> calling a function"
      ],
      "metadata": {
        "id": "kfEdcPg1q3ny"
      },
      "execution_count": null,
      "outputs": []
    },
    {
      "cell_type": "code",
      "source": [
        "def greet():                                  #Function without paramters\n",
        "  print(\"Hello Everyone\")   #-> declaration\n",
        "\n",
        "greet() #->calling greet function"
      ],
      "metadata": {
        "colab": {
          "base_uri": "https://localhost:8080/"
        },
        "id": "n8gZ2bt2m7d9",
        "outputId": "0b123963-bcb1-444e-f370-43f0f5993f8c"
      },
      "execution_count": 21,
      "outputs": [
        {
          "output_type": "stream",
          "name": "stdout",
          "text": [
            "Hello Everyone\n"
          ]
        }
      ]
    },
    {
      "cell_type": "markdown",
      "source": [
        "Function without parameters .\n",
        "Function with paramters.\n",
        "Function with return statement .\n",
        "Function with multiple parameters.\n",
        "Function with arbitary parameters ."
      ],
      "metadata": {
        "id": "gg54G-7sv99y"
      }
    },
    {
      "cell_type": "code",
      "source": [
        "def print_number(): #function without parameter\n",
        "  for i in range(5):\n",
        "    print(i,end = ' ')\n",
        "\n",
        "print_number()"
      ],
      "metadata": {
        "colab": {
          "base_uri": "https://localhost:8080/"
        },
        "id": "2JcnvFg6wdWJ",
        "outputId": "48ecd2c4-52c5-481b-eb57-42511e3c9d6b"
      },
      "execution_count": 22,
      "outputs": [
        {
          "output_type": "stream",
          "name": "stdout",
          "text": [
            "0 1 2 3 4 "
          ]
        }
      ]
    },
    {
      "cell_type": "code",
      "source": [
        "def print_number(n):  #passing a paramter\n",
        "  for i in range(n):\n",
        "    print(i,end=' ')\n",
        "\n",
        "print_number(10)"
      ],
      "metadata": {
        "colab": {
          "base_uri": "https://localhost:8080/"
        },
        "id": "DajOagL6x45c",
        "outputId": "f7809124-2328-4dca-b4a8-761cd674a29d"
      },
      "execution_count": 23,
      "outputs": [
        {
          "output_type": "stream",
          "name": "stdout",
          "text": [
            "0 1 2 3 4 5 6 7 8 9 "
          ]
        }
      ]
    },
    {
      "cell_type": "code",
      "source": [
        "def greet(name):\n",
        "  print(f\"hello good evening {name}\")\n",
        "\n",
        "#name = input()\n",
        "greet('rejo')"
      ],
      "metadata": {
        "colab": {
          "base_uri": "https://localhost:8080/"
        },
        "id": "hvasnHGvyWPZ",
        "outputId": "63bbc8e7-807a-48de-a4bb-7073cd51dd3e"
      },
      "execution_count": 26,
      "outputs": [
        {
          "output_type": "stream",
          "name": "stdout",
          "text": [
            "hello good evening rejo\n"
          ]
        }
      ]
    },
    {
      "cell_type": "code",
      "source": [
        "def add(a,b):\n",
        "  res = a + b\n",
        "  print(res)\n",
        "\n",
        "add(10,20)"
      ],
      "metadata": {
        "colab": {
          "base_uri": "https://localhost:8080/"
        },
        "id": "arCQ4h9oy-WC",
        "outputId": "87b97545-7983-4fc2-c123-6d4d93978d4a"
      },
      "execution_count": 27,
      "outputs": [
        {
          "output_type": "stream",
          "name": "stdout",
          "text": [
            "30\n"
          ]
        }
      ]
    },
    {
      "cell_type": "code",
      "source": [
        "def info_student(name,lastname,age):\n",
        "  print(f\"Name:{name} Lastname:{lastname} Age:{age}\")\n",
        "\n",
        "info_student('diana','tam',37)"
      ],
      "metadata": {
        "colab": {
          "base_uri": "https://localhost:8080/"
        },
        "id": "KmS8bLMezZoF",
        "outputId": "42b7639d-f305-4b26-dc3d-b1890fd3a649"
      },
      "execution_count": 28,
      "outputs": [
        {
          "output_type": "stream",
          "name": "stdout",
          "text": [
            "Name:diana Lastname:tam Age:37\n"
          ]
        }
      ]
    },
    {
      "cell_type": "code",
      "source": [
        "#function using return statement\n",
        "\n",
        "def add(a,b):\n",
        "  return a+b\n",
        "\n",
        "print(add(10,20))  #return value can be  stored in a variable , used in expression or passed to other function\n",
        "print(add(10,30)+40)"
      ],
      "metadata": {
        "colab": {
          "base_uri": "https://localhost:8080/"
        },
        "id": "QAu4zXG60XHd",
        "outputId": "b2a284b5-6abe-46fa-d94e-e6381101e2b0"
      },
      "execution_count": 31,
      "outputs": [
        {
          "output_type": "stream",
          "name": "stdout",
          "text": [
            "30\n",
            "80\n"
          ]
        }
      ]
    },
    {
      "cell_type": "code",
      "source": [
        "def square_number(x):\n",
        "  return x*x\n",
        "\n",
        "print(square_number(4))\n",
        "for i in range(5):\n",
        "  print(square_number(i))"
      ],
      "metadata": {
        "colab": {
          "base_uri": "https://localhost:8080/"
        },
        "id": "No3oWocb2HLa",
        "outputId": "88f9eec1-4853-4f08-b1ed-a91f5de1ffb0"
      },
      "execution_count": 33,
      "outputs": [
        {
          "output_type": "stream",
          "name": "stdout",
          "text": [
            "16\n",
            "0\n",
            "1\n",
            "4\n",
            "9\n",
            "16\n"
          ]
        }
      ]
    },
    {
      "cell_type": "code",
      "source": [
        "def function_name():\n",
        "  pass          #pass act as placeholder for future code"
      ],
      "metadata": {
        "id": "MvphDcG_4Nxq"
      },
      "execution_count": null,
      "outputs": []
    },
    {
      "cell_type": "code",
      "source": [
        "def area_circle(pi=3.14,radius = 6):\n",
        "  return pi*radius*radius\n",
        "\n",
        "print(area_circle())"
      ],
      "metadata": {
        "colab": {
          "base_uri": "https://localhost:8080/"
        },
        "id": "9jzTTTT33LhV",
        "outputId": "70705274-197a-401a-fb49-6846349737f9"
      },
      "execution_count": 35,
      "outputs": [
        {
          "output_type": "stream",
          "name": "stdout",
          "text": [
            "113.03999999999999\n"
          ]
        }
      ]
    },
    {
      "cell_type": "markdown",
      "source": [
        "calculate area of circle and return answer"
      ],
      "metadata": {
        "id": "WTCJwmCV2jWD"
      }
    },
    {
      "cell_type": "markdown",
      "source": [
        "Arbitary functions in python refers to functions that can accept arbitary arguments .It is useful when u dont know how many arguments might be passed into fucntions\n",
        "\n",
        "Two main ways to handle arbitary arguments\n",
        "- *args allows function to accept any number of positional arguments.Inside the functional args is a tuple containing all the positional arguments passed\n",
        "\n",
        "**Kwargs -> It allows a function to accept any number of keyword arguments inside the function.It is dictionary containing all keyword arguments passed"
      ],
      "metadata": {
        "id": "DQryzcvd4CLZ"
      }
    },
    {
      "cell_type": "code",
      "source": [
        "def print_numbers(*args):\n",
        "  print(args)\n",
        "print_numbers([1,2,3])"
      ],
      "metadata": {
        "colab": {
          "base_uri": "https://localhost:8080/"
        },
        "id": "wTmMNt-A5jQA",
        "outputId": "5ab736f9-07fa-49aa-9047-68b552ed91f9"
      },
      "execution_count": 40,
      "outputs": [
        {
          "output_type": "stream",
          "name": "stdout",
          "text": [
            "([1, 2, 3],)\n"
          ]
        }
      ]
    },
    {
      "cell_type": "code",
      "source": [
        "def greet(*names):\n",
        "  for name in names:\n",
        "    print(f\"Hello {name}\")\n",
        "\n",
        "greet(\"dhruv\",\"Gaurav\")\n",
        ""
      ],
      "metadata": {
        "colab": {
          "base_uri": "https://localhost:8080/"
        },
        "id": "-SEy8E4f6eNQ",
        "outputId": "bcc1ab9f-b8d2-4043-eba0-0997db5104ec"
      },
      "execution_count": 43,
      "outputs": [
        {
          "output_type": "stream",
          "name": "stdout",
          "text": [
            "Hello dhruv\n",
            "Hello Gaurav\n"
          ]
        }
      ]
    },
    {
      "cell_type": "code",
      "source": [
        "def display_info(**info):\n",
        "  for key,value in info.items():\n",
        "    print(f\"{key}:{value}\")\n",
        "\n",
        "display_info(name = \"Alice\",age = 30,city = \"Newyork\")"
      ],
      "metadata": {
        "colab": {
          "base_uri": "https://localhost:8080/"
        },
        "id": "_MAYYDho8H9A",
        "outputId": "0b8dc8b5-34b2-49dd-b5ad-66ce6627fb92"
      },
      "execution_count": 44,
      "outputs": [
        {
          "output_type": "stream",
          "name": "stdout",
          "text": [
            "name:Alice\n",
            "age:30\n",
            "city:Newyork\n"
          ]
        }
      ]
    },
    {
      "cell_type": "markdown",
      "source": [
        "logging"
      ],
      "metadata": {
        "id": "cEH-kmT59Wr2"
      }
    },
    {
      "cell_type": "code",
      "source": [
        "def combined_arguments(*args,**kwargs):\n",
        "  print(args)\n",
        "  print(kwargs)\n",
        "combined_arguments(1,2,3,name=\"Liva\",age = 80)"
      ],
      "metadata": {
        "colab": {
          "base_uri": "https://localhost:8080/"
        },
        "id": "A_FzFL3j8ve9",
        "outputId": "17065734-6107-44c2-b6df-480a2ea5abbc"
      },
      "execution_count": 45,
      "outputs": [
        {
          "output_type": "stream",
          "name": "stdout",
          "text": [
            "(1, 2, 3)\n",
            "{'name': 'Liva', 'age': 80}\n"
          ]
        }
      ]
    },
    {
      "cell_type": "code",
      "source": [
        "#write a function to calculate age of a person\n",
        "#wrire a function to check if it is a prime number"
      ],
      "metadata": {
        "id": "GVeN_PYJ9uQo"
      },
      "execution_count": null,
      "outputs": []
    },
    {
      "cell_type": "code",
      "source": [
        "def print_number(n):\n",
        "  for i in range(n):\n",
        "    print(i,end=' ')\n",
        "\n",
        "print_number(10)\n"
      ],
      "metadata": {
        "colab": {
          "base_uri": "https://localhost:8080/"
        },
        "id": "KRcy5Tbw-Ro2",
        "outputId": "6e1b323a-ccee-40b2-c02b-9d43f9ad049e"
      },
      "execution_count": 47,
      "outputs": [
        {
          "output_type": "stream",
          "name": "stdout",
          "text": [
            "0 1 2 3 4 5 6 7 8 9 "
          ]
        }
      ]
    },
    {
      "cell_type": "markdown",
      "source": [
        "1)write a program to print fibonnaci series\n",
        "2)write a program to sum the numbers using arbitary arguments\n",
        "3) write a program to convert C to F ie celcius to Fahrenheit F=(c*9/5)+32\n"
      ],
      "metadata": {
        "id": "Wb2-mVw2__yK"
      }
    },
    {
      "cell_type": "markdown",
      "source": [],
      "metadata": {
        "id": "wkE4umE39tnD"
      }
    }
  ]
}