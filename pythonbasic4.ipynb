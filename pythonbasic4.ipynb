{
  "nbformat": 4,
  "nbformat_minor": 0,
  "metadata": {
    "colab": {
      "provenance": [],
      "authorship_tag": "ABX9TyOFI6uP6Pjd3iZtNONjW+a5",
      "include_colab_link": true
    },
    "kernelspec": {
      "name": "python3",
      "display_name": "Python 3"
    },
    "language_info": {
      "name": "python"
    }
  },
  "cells": [
    {
      "cell_type": "markdown",
      "metadata": {
        "id": "view-in-github",
        "colab_type": "text"
      },
      "source": [
        "<a href=\"https://colab.research.google.com/github/dharaadhvaryu/Django-api-example/blob/master/pythonbasic4.ipynb\" target=\"_parent\"><img src=\"https://colab.research.google.com/assets/colab-badge.svg\" alt=\"Open In Colab\"/></a>"
      ]
    },
    {
      "cell_type": "code",
      "execution_count": null,
      "metadata": {
        "id": "rK_Jz9W1eAja"
      },
      "outputs": [],
      "source": []
    },
    {
      "cell_type": "markdown",
      "source": [
        "Today's Agenda\n",
        "-->Lambda Function\n",
        "-->List\n",
        "-->Tuple\n",
        "-->Strings"
      ],
      "metadata": {
        "id": "DWKpf25IeNx1"
      }
    },
    {
      "cell_type": "markdown",
      "source": [
        "Lambda Function -> It is consice way of write anonymous function .They are particularly used in sorting,Filtering ,mapping and in GuI and data processing\n",
        "It uses Lambda Keyword\n",
        "\n",
        "lambda arguments:expression"
      ],
      "metadata": {
        "id": "MLcCgIEDh5pH"
      }
    },
    {
      "cell_type": "code",
      "source": [
        "add = lambda x,y,z:x+y+z\n",
        "add(8,7,9)"
      ],
      "metadata": {
        "colab": {
          "base_uri": "https://localhost:8080/"
        },
        "id": "e0ub5OdWh4Y2",
        "outputId": "cdf7ac8a-1c35-4e93-d953-7c62a3d84d65"
      },
      "execution_count": 4,
      "outputs": [
        {
          "output_type": "execute_result",
          "data": {
            "text/plain": [
              "24"
            ]
          },
          "metadata": {},
          "execution_count": 4
        }
      ]
    },
    {
      "cell_type": "code",
      "source": [
        "a = lambda x:x**2\n",
        "a(5)"
      ],
      "metadata": {
        "colab": {
          "base_uri": "https://localhost:8080/"
        },
        "id": "n897dWNMjbhn",
        "outputId": "a7237e65-566d-4acd-afa5-bc797cef79c3"
      },
      "execution_count": 5,
      "outputs": [
        {
          "output_type": "execute_result",
          "data": {
            "text/plain": [
              "25"
            ]
          },
          "metadata": {},
          "execution_count": 5
        }
      ]
    },
    {
      "cell_type": "markdown",
      "source": [
        "List\n",
        "-> List is an ordered collection of data\n",
        "-> It is dynamic\n",
        "-> List can multiple datatypes\n",
        "-> List are created using [] brackets\n",
        "-> List are mutable.\n",
        "->List can be accesed by index"
      ],
      "metadata": {
        "id": "BaHXsdyQjxeC"
      }
    },
    {
      "cell_type": "code",
      "source": [
        "list1 = [] #empty list\n",
        "list1 = [1,2,3,4,5]\n",
        "runs_sachin = [50,100,60,70,100,78,90,100,101] #index starts from 0\n",
        "runs_sachin[1] #2 match"
      ],
      "metadata": {
        "colab": {
          "base_uri": "https://localhost:8080/"
        },
        "id": "Olucsit3mmhy",
        "outputId": "f15fc2b2-f8b9-48d2-91de-1f5cad8a3cd6"
      },
      "execution_count": 6,
      "outputs": [
        {
          "output_type": "execute_result",
          "data": {
            "text/plain": [
              "100"
            ]
          },
          "metadata": {},
          "execution_count": 6
        }
      ]
    },
    {
      "cell_type": "code",
      "source": [
        "print(runs_sachin[0])\n",
        "print(runs_sachin[1])\n",
        "print(runs_sachin[2])\n",
        "print(runs_sachin[3])\n",
        "print(runs_sachin[4])\n",
        "print(runs_sachin[5])\n",
        "print(runs_sachin[6])\n",
        "print(runs_sachin[7])\n",
        "print(runs_sachin[8])\n",
        "\n",
        "#index value starts from 0 to n-1\n",
        "#positional starts from 1 to n"
      ],
      "metadata": {
        "colab": {
          "base_uri": "https://localhost:8080/"
        },
        "id": "4stC8JN1nx1d",
        "outputId": "d3455eb0-4b7b-4409-e57a-485b486d7ee0"
      },
      "execution_count": 8,
      "outputs": [
        {
          "output_type": "stream",
          "name": "stdout",
          "text": [
            "50\n",
            "100\n",
            "60\n",
            "70\n",
            "100\n",
            "78\n",
            "90\n",
            "100\n",
            "101\n"
          ]
        }
      ]
    },
    {
      "cell_type": "code",
      "source": [
        "#len() - length of list\n",
        "len(runs_sachin)"
      ],
      "metadata": {
        "colab": {
          "base_uri": "https://localhost:8080/"
        },
        "id": "yvBC14lwoO2N",
        "outputId": "75c2b205-b326-4540-d932-e4d8624c174f"
      },
      "execution_count": 9,
      "outputs": [
        {
          "output_type": "execute_result",
          "data": {
            "text/plain": [
              "9"
            ]
          },
          "metadata": {},
          "execution_count": 9
        }
      ]
    },
    {
      "cell_type": "code",
      "source": [
        "runs_sachin[len(runs_sachin)-1] #last element of the list"
      ],
      "metadata": {
        "colab": {
          "base_uri": "https://localhost:8080/"
        },
        "id": "5vC-IO12ouuM",
        "outputId": "2aa7d947-cfdf-4161-9b92-68d165666c0c"
      },
      "execution_count": 10,
      "outputs": [
        {
          "output_type": "execute_result",
          "data": {
            "text/plain": [
              "101"
            ]
          },
          "metadata": {},
          "execution_count": 10
        }
      ]
    },
    {
      "cell_type": "code",
      "source": [
        "#negative indexing\n",
        "runs_sachin[-1] #last element\n",
        "print(runs_sachin[-2]) #second last element\n",
        "print(runs_sachin[-3])\n",
        "print(runs_sachin[-4])\n",
        "print(runs_sachin[-5])\n",
        "print(runs_sachin[-6])\n",
        "print(runs_sachin[-7])\n",
        "print(runs_sachin[-8])\n",
        "print(runs_sachin[-9])\n",
        "#"
      ],
      "metadata": {
        "colab": {
          "base_uri": "https://localhost:8080/"
        },
        "id": "RFA1Eip4paNM",
        "outputId": "c28fb065-6a2e-45d7-8f0f-db665c43df2c"
      },
      "execution_count": 12,
      "outputs": [
        {
          "output_type": "stream",
          "name": "stdout",
          "text": [
            "100\n",
            "90\n",
            "78\n",
            "100\n",
            "70\n",
            "60\n",
            "100\n",
            "50\n"
          ]
        }
      ]
    },
    {
      "cell_type": "code",
      "source": [
        "for i in runs_sachin:\n",
        "  print(i)"
      ],
      "metadata": {
        "colab": {
          "base_uri": "https://localhost:8080/"
        },
        "id": "jmL63-LyqFfJ",
        "outputId": "293b2c05-2abc-4a0f-b770-6a3e81b48022"
      },
      "execution_count": 13,
      "outputs": [
        {
          "output_type": "stream",
          "name": "stdout",
          "text": [
            "50\n",
            "100\n",
            "60\n",
            "70\n",
            "100\n",
            "78\n",
            "90\n",
            "100\n",
            "101\n"
          ]
        }
      ]
    },
    {
      "cell_type": "code",
      "source": [
        "def sum_of_scores(runs_sachin):\n",
        "  return sum(runs_sachin)\n",
        "\n",
        "sum_of_scores(runs_sachin)"
      ],
      "metadata": {
        "colab": {
          "base_uri": "https://localhost:8080/"
        },
        "id": "tzXry-x8qZZD",
        "outputId": "0078407e-0c3b-4cca-91c4-cbdfa4ada82f"
      },
      "execution_count": 15,
      "outputs": [
        {
          "output_type": "execute_result",
          "data": {
            "text/plain": [
              "749"
            ]
          },
          "metadata": {},
          "execution_count": 15
        }
      ]
    },
    {
      "cell_type": "code",
      "source": [
        "#append(x) -> It will add item to the end of the list\n",
        "runs_sachin.append(89)\n",
        "runs_sachin\n"
      ],
      "metadata": {
        "colab": {
          "base_uri": "https://localhost:8080/"
        },
        "id": "TDJSeZrYqxwi",
        "outputId": "4ed26d69-99a4-4f57-cf5d-0b3ca1f4e59e"
      },
      "execution_count": 18,
      "outputs": [
        {
          "output_type": "execute_result",
          "data": {
            "text/plain": [
              "[50, 100, 60, 70, 100, 78, 90, 100, 101, 89, 89, 89]"
            ]
          },
          "metadata": {},
          "execution_count": 18
        }
      ]
    },
    {
      "cell_type": "code",
      "source": [
        "l1 = []\n",
        "l1.append(3)\n",
        "l1\n",
        "l1.append(9)\n",
        "l1"
      ],
      "metadata": {
        "colab": {
          "base_uri": "https://localhost:8080/"
        },
        "id": "Qnnw2ZVqrUz0",
        "outputId": "f8fc32a2-c9ce-4f78-dd4c-6bc85087cf16"
      },
      "execution_count": 23,
      "outputs": [
        {
          "output_type": "execute_result",
          "data": {
            "text/plain": [
              "[3, 9]"
            ]
          },
          "metadata": {},
          "execution_count": 23
        }
      ]
    },
    {
      "cell_type": "code",
      "source": [
        "#insert :-> It inserts value at specific position\n",
        "print(l1)\n",
        "l1.insert(0,2)\n",
        "#l1"
      ],
      "metadata": {
        "colab": {
          "base_uri": "https://localhost:8080/"
        },
        "id": "QQuBElw_rzZp",
        "outputId": "ca151ae8-a4cb-4046-fb8a-f34cc4ef7cb4"
      },
      "execution_count": 26,
      "outputs": [
        {
          "output_type": "stream",
          "name": "stdout",
          "text": [
            "[2, 3, 9]\n"
          ]
        },
        {
          "output_type": "execute_result",
          "data": {
            "text/plain": [
              "[2, 2, 3, 9]"
            ]
          },
          "metadata": {},
          "execution_count": 26
        }
      ]
    },
    {
      "cell_type": "code",
      "source": [
        "mylist = [1,2,34,5,6,7]\n",
        "mylist.insert(2,3)\n",
        "mylist"
      ],
      "metadata": {
        "colab": {
          "base_uri": "https://localhost:8080/"
        },
        "id": "Of7k1xmxsvcZ",
        "outputId": "94cd3db6-f758-48f3-fae6-5684603b8268"
      },
      "execution_count": 27,
      "outputs": [
        {
          "output_type": "execute_result",
          "data": {
            "text/plain": [
              "[1, 2, 3, 34, 5, 6, 7]"
            ]
          },
          "metadata": {},
          "execution_count": 27
        }
      ]
    },
    {
      "cell_type": "code",
      "source": [
        "#Extend(iterable): It adds all elements of iterables to existing list\n",
        "num =[.9,.8,.6]\n",
        "mylist.extend(num)\n",
        "mylist"
      ],
      "metadata": {
        "colab": {
          "base_uri": "https://localhost:8080/"
        },
        "id": "gpnmffPQtVuR",
        "outputId": "1326b596-3326-4faf-9ed9-a66dd0861d62"
      },
      "execution_count": 28,
      "outputs": [
        {
          "output_type": "execute_result",
          "data": {
            "text/plain": [
              "[1, 2, 3, 34, 5, 6, 7, 0.9, 0.8, 0.6]"
            ]
          },
          "metadata": {},
          "execution_count": 28
        }
      ]
    },
    {
      "cell_type": "code",
      "source": [
        "a1 = ['a','b']\n",
        "a2 =['c','d']"
      ],
      "metadata": {
        "colab": {
          "base_uri": "https://localhost:8080/"
        },
        "id": "EgVNLFhcuAXG",
        "outputId": "8b12f0f1-d8f4-457c-f3ac-1e23a6429ffd"
      },
      "execution_count": 29,
      "outputs": [
        {
          "output_type": "execute_result",
          "data": {
            "text/plain": [
              "['a', 'b', 'c', 'd']"
            ]
          },
          "metadata": {},
          "execution_count": 29
        }
      ]
    },
    {
      "cell_type": "code",
      "source": [],
      "metadata": {
        "id": "kWgA5EhjvS_E"
      },
      "execution_count": null,
      "outputs": []
    },
    {
      "cell_type": "code",
      "source": [
        "#removing of element from list\n",
        "#pop([index]) ->It removes and return item at the given index\n",
        "mylist.pop(3)\n"
      ],
      "metadata": {
        "colab": {
          "base_uri": "https://localhost:8080/"
        },
        "id": "ULfezB8Qujg8",
        "outputId": "94eec9d0-75f8-41da-d38e-e616ab9156b5"
      },
      "execution_count": null,
      "outputs": [
        {
          "output_type": "execute_result",
          "data": {
            "text/plain": [
              "34"
            ]
          },
          "metadata": {},
          "execution_count": 30
        }
      ]
    },
    {
      "cell_type": "code",
      "source": [
        "mylist.append(34)\n",
        "mylist"
      ],
      "metadata": {
        "colab": {
          "base_uri": "https://localhost:8080/"
        },
        "id": "XNJBBAXjvWSF",
        "outputId": "1b859631-3b88-4654-8d31-25353a89e108"
      },
      "execution_count": 32,
      "outputs": [
        {
          "output_type": "execute_result",
          "data": {
            "text/plain": [
              "[1, 2, 3, 5, 6, 7, 0.9, 0.8, 0.6, 34, 34]"
            ]
          },
          "metadata": {},
          "execution_count": 32
        }
      ]
    },
    {
      "cell_type": "code",
      "source": [
        "mylist.pop()"
      ],
      "metadata": {
        "colab": {
          "base_uri": "https://localhost:8080/"
        },
        "id": "Ca9fYGduvkFT",
        "outputId": "ee3d48aa-b2e9-4662-c873-67e971ed087a"
      },
      "execution_count": 33,
      "outputs": [
        {
          "output_type": "execute_result",
          "data": {
            "text/plain": [
              "34"
            ]
          },
          "metadata": {},
          "execution_count": 33
        }
      ]
    },
    {
      "cell_type": "markdown",
      "source": [
        "pop(index)          It is return a value\n",
        "pop()->last element\n",
        "\n",
        "remove(value) -> It removes and does not returns the value and it will remove first occurence of your value"
      ],
      "metadata": {
        "id": "ygBJfOAlwBF7"
      }
    },
    {
      "cell_type": "code",
      "source": [
        "mylist\n",
        "#mylist.remove(34)\n"
      ],
      "metadata": {
        "colab": {
          "base_uri": "https://localhost:8080/"
        },
        "id": "32Bb_9RHvqim",
        "outputId": "2bfc378e-7d13-4ecd-95c8-0a94023c57d4"
      },
      "execution_count": 37,
      "outputs": [
        {
          "output_type": "execute_result",
          "data": {
            "text/plain": [
              "[1, 2, 3, 5, 6, 7, 0.9, 0.8, 0.6]"
            ]
          },
          "metadata": {},
          "execution_count": 37
        }
      ]
    },
    {
      "cell_type": "code",
      "source": [
        "#clear function :- It removes all elements from the list\n",
        "mylist.clear()\n",
        "mylist"
      ],
      "metadata": {
        "colab": {
          "base_uri": "https://localhost:8080/"
        },
        "id": "3b9swKbNxgNs",
        "outputId": "a68107c2-2ca3-43f1-cacf-64e4a134973d"
      },
      "execution_count": 38,
      "outputs": [
        {
          "output_type": "execute_result",
          "data": {
            "text/plain": [
              "[]"
            ]
          },
          "metadata": {},
          "execution_count": 38
        }
      ]
    },
    {
      "cell_type": "code",
      "source": [
        "mylist.append(2)\n",
        "mylist"
      ],
      "metadata": {
        "colab": {
          "base_uri": "https://localhost:8080/"
        },
        "id": "GC3bFsQOx3dz",
        "outputId": "12cb29e9-b85e-4bbc-c98f-278a2151ec44"
      },
      "execution_count": 40,
      "outputs": [
        {
          "output_type": "execute_result",
          "data": {
            "text/plain": [
              "[2]"
            ]
          },
          "metadata": {},
          "execution_count": 40
        }
      ]
    },
    {
      "cell_type": "code",
      "source": [
        "my_cars = ['BMW','Volvo','Fortuner']\n",
        "my_cars[2] = 'Audi'\n",
        "my_cars"
      ],
      "metadata": {
        "colab": {
          "base_uri": "https://localhost:8080/"
        },
        "id": "fjUBqg33yKRK",
        "outputId": "0d5e80cf-c867-4dfa-e7f9-e2a835bcd627"
      },
      "execution_count": 42,
      "outputs": [
        {
          "output_type": "execute_result",
          "data": {
            "text/plain": [
              "['BMW', 'Volvo', 'Audi']"
            ]
          },
          "metadata": {},
          "execution_count": 42
        }
      ]
    },
    {
      "cell_type": "code",
      "source": [
        "runs_sachin"
      ],
      "metadata": {
        "colab": {
          "base_uri": "https://localhost:8080/"
        },
        "id": "hK09zD80y3Be",
        "outputId": "875ca122-8eab-4d5c-faf5-756a38cc6471"
      },
      "execution_count": 43,
      "outputs": [
        {
          "output_type": "execute_result",
          "data": {
            "text/plain": [
              "[50, 100, 60, 70, 100, 78, 90, 100, 101, 89, 89, 89]"
            ]
          },
          "metadata": {},
          "execution_count": 43
        }
      ]
    },
    {
      "cell_type": "code",
      "source": [
        "#searchin with index(x)   #index function is used to give index value of any element in list\n",
        "print(runs_sachin.index(89))\n",
        "print(runs_sachin.index(100))\n",
        "#runs_sachin.index(100) = 34\n",
        "runs_sachin[runs_sachin.index(100)] = 34"
      ],
      "metadata": {
        "colab": {
          "base_uri": "https://localhost:8080/"
        },
        "id": "JNs_Bp0My9CM",
        "outputId": "f3e2acbc-f9be-4a59-e5b7-e453b707fcc0"
      },
      "execution_count": 46,
      "outputs": [
        {
          "output_type": "stream",
          "name": "stdout",
          "text": [
            "9\n",
            "1\n"
          ]
        }
      ]
    },
    {
      "cell_type": "code",
      "source": [
        "runs_sachin"
      ],
      "metadata": {
        "colab": {
          "base_uri": "https://localhost:8080/"
        },
        "id": "dqj8HCrN0goc",
        "outputId": "484a6f31-093c-4c8a-ce63-e1fa5763b2bd"
      },
      "execution_count": 47,
      "outputs": [
        {
          "output_type": "execute_result",
          "data": {
            "text/plain": [
              "[50, 34, 60, 70, 100, 78, 90, 100, 101, 89, 89, 89]"
            ]
          },
          "metadata": {},
          "execution_count": 47
        }
      ]
    },
    {
      "cell_type": "code",
      "source": [
        "#count() #It returns the number of occurence of that element in the list\n",
        "runs_sachin.count(89)"
      ],
      "metadata": {
        "colab": {
          "base_uri": "https://localhost:8080/"
        },
        "id": "wKlUwooF0sZv",
        "outputId": "38efb82c-033a-415f-f721-ea373e1b8b3b"
      },
      "execution_count": 48,
      "outputs": [
        {
          "output_type": "execute_result",
          "data": {
            "text/plain": [
              "3"
            ]
          },
          "metadata": {},
          "execution_count": 48
        }
      ]
    },
    {
      "cell_type": "code",
      "source": [
        "runs = runs_sachin.copy() #copy function will copy the list and original list is not affected when any changes mmade on another list\n",
        "runs"
      ],
      "metadata": {
        "colab": {
          "base_uri": "https://localhost:8080/"
        },
        "id": "SxPqpEBa1PTy",
        "outputId": "c1b1460e-6005-4975-e51b-39e9c307e3ac"
      },
      "execution_count": 49,
      "outputs": [
        {
          "output_type": "execute_result",
          "data": {
            "text/plain": [
              "[50, 34, 60, 70, 100, 78, 90, 100, 101, 89, 89, 89]"
            ]
          },
          "metadata": {},
          "execution_count": 49
        }
      ]
    },
    {
      "cell_type": "code",
      "source": [
        "runs.sort() #sort the list in place\n",
        "runs"
      ],
      "metadata": {
        "colab": {
          "base_uri": "https://localhost:8080/"
        },
        "id": "rjFGiLKQ1GTZ",
        "outputId": "7523e21b-a765-4e29-a661-04f408778c51"
      },
      "execution_count": 50,
      "outputs": [
        {
          "output_type": "execute_result",
          "data": {
            "text/plain": [
              "[34, 50, 60, 70, 78, 89, 89, 89, 90, 100, 100, 101]"
            ]
          },
          "metadata": {},
          "execution_count": 50
        }
      ]
    },
    {
      "cell_type": "code",
      "source": [
        "runs"
      ],
      "metadata": {
        "colab": {
          "base_uri": "https://localhost:8080/"
        },
        "id": "5UzHmXLt2BAL",
        "outputId": "b17fdfe2-9107-4306-8645-3bf333b18c14"
      },
      "execution_count": 51,
      "outputs": [
        {
          "output_type": "execute_result",
          "data": {
            "text/plain": [
              "[34, 50, 60, 70, 78, 89, 89, 89, 90, 100, 100, 101]"
            ]
          },
          "metadata": {},
          "execution_count": 51
        }
      ]
    },
    {
      "cell_type": "markdown",
      "source": [],
      "metadata": {
        "id": "DZltVNobxbnu"
      }
    },
    {
      "cell_type": "code",
      "source": [
        "sorted(runs_sachin)"
      ],
      "metadata": {
        "colab": {
          "base_uri": "https://localhost:8080/"
        },
        "id": "86boUcWpzJC6",
        "outputId": "def54409-4347-4147-f422-8ca8dedb6527"
      },
      "execution_count": 54,
      "outputs": [
        {
          "output_type": "execute_result",
          "data": {
            "text/plain": [
              "[34, 50, 60, 70, 78, 89, 89, 89, 90, 100, 100, 101]"
            ]
          },
          "metadata": {},
          "execution_count": 54
        }
      ]
    },
    {
      "cell_type": "code",
      "source": [
        "runs_sachin"
      ],
      "metadata": {
        "colab": {
          "base_uri": "https://localhost:8080/"
        },
        "id": "3lKIzVZ_2q_a",
        "outputId": "b4b5b96f-a6f0-444d-fcd8-c3a3d5d361db"
      },
      "execution_count": 55,
      "outputs": [
        {
          "output_type": "execute_result",
          "data": {
            "text/plain": [
              "[50, 34, 60, 70, 100, 78, 90, 100, 101, 89, 89, 89]"
            ]
          },
          "metadata": {},
          "execution_count": 55
        }
      ]
    },
    {
      "cell_type": "code",
      "source": [
        "#Slicing -> IT is a way to acces a subpart of your list\n",
        "#slicing   ->listname[start:stop:step]\n",
        "my_num = [0,1,2,3,4,5,6,7,8,9,10]\n",
        "print(my_num[0:3])\n",
        "print(my_num[3:8])\n",
        "print(my_num[2:]) #till end\n",
        "print(my_num[::]) #full list\n",
        "print(my_num[::2])\n",
        "print(my_num[::-1]) #reverse a list\n",
        "print(my_num[2:-2:2])"
      ],
      "metadata": {
        "colab": {
          "base_uri": "https://localhost:8080/"
        },
        "id": "NEpqfNeJvtuP",
        "outputId": "ff6f6f1a-9f07-4de6-c3da-71bc58d44b56"
      },
      "execution_count": 64,
      "outputs": [
        {
          "output_type": "stream",
          "name": "stdout",
          "text": [
            "[0, 1, 2]\n",
            "[3, 4, 5, 6, 7]\n",
            "[2, 3, 4, 5, 6, 7, 8, 9, 10]\n",
            "[0, 1, 2, 3, 4, 5, 6, 7, 8, 9, 10]\n",
            "[0, 2, 4, 6, 8, 10]\n",
            "[10, 9, 8, 7, 6, 5, 4, 3, 2, 1, 0]\n",
            "[2, 4, 6, 8]\n"
          ]
        }
      ]
    },
    {
      "cell_type": "code",
      "source": [
        "#membership operator in  and not in\n",
        "print(10 in my_num)\n",
        "print(100 in my_num)"
      ],
      "metadata": {
        "colab": {
          "base_uri": "https://localhost:8080/"
        },
        "id": "-DyP0Ljl-70R",
        "outputId": "f9afc6dc-4bec-4a54-c9f3-a8fffa4b7fa0"
      },
      "execution_count": 67,
      "outputs": [
        {
          "output_type": "stream",
          "name": "stdout",
          "text": [
            "True\n",
            "False\n"
          ]
        }
      ]
    },
    {
      "cell_type": "code",
      "source": [
        "print(list(range(len(my_num))))\n",
        "for index in range(len(my_num)):\n",
        "  print(index,'->',my_num[index])"
      ],
      "metadata": {
        "colab": {
          "base_uri": "https://localhost:8080/"
        },
        "id": "YlL9PRe0_76n",
        "outputId": "d63f70c2-e9db-4023-fbb5-5ba60210a9ec"
      },
      "execution_count": 70,
      "outputs": [
        {
          "output_type": "stream",
          "name": "stdout",
          "text": [
            "[0, 1, 2, 3, 4, 5, 6, 7, 8, 9, 10]\n",
            "0 -> 0\n",
            "1 -> 1\n",
            "2 -> 2\n",
            "3 -> 3\n",
            "4 -> 4\n",
            "5 -> 5\n",
            "6 -> 6\n",
            "7 -> 7\n",
            "8 -> 8\n",
            "9 -> 9\n",
            "10 -> 10\n"
          ]
        }
      ]
    },
    {
      "cell_type": "code",
      "source": [
        "list1 = [10,20,30,40,50]\n",
        "for index in range(len(list1)-1,-1,-1):\n",
        "  print(list1[index])"
      ],
      "metadata": {
        "colab": {
          "base_uri": "https://localhost:8080/"
        },
        "id": "0WvTaa6fA19L",
        "outputId": "46ba779c-73c5-4bcb-8af1-a5974537f253"
      },
      "execution_count": 71,
      "outputs": [
        {
          "output_type": "stream",
          "name": "stdout",
          "text": [
            "50\n",
            "40\n",
            "30\n",
            "20\n",
            "10\n"
          ]
        }
      ]
    },
    {
      "cell_type": "code",
      "source": [
        "print(max(list1))\n",
        "print(min(list1))"
      ],
      "metadata": {
        "colab": {
          "base_uri": "https://localhost:8080/"
        },
        "id": "uH166MFNBkrw",
        "outputId": "49016ad7-6e91-452a-d26b-7b8e1061577f"
      },
      "execution_count": 73,
      "outputs": [
        {
          "output_type": "stream",
          "name": "stdout",
          "text": [
            "50\n",
            "10\n"
          ]
        }
      ]
    },
    {
      "cell_type": "markdown",
      "source": [
        "Write a program to give second largest number of the list\n",
        "write a program to remove duplicates from the list"
      ],
      "metadata": {
        "id": "29DWhLcKByVI"
      }
    },
    {
      "cell_type": "markdown",
      "source": [
        "Tuple\n",
        "Tuple is a collected of ordered and immutable data\n",
        "Tuple is created using ()\n"
      ],
      "metadata": {
        "id": "uRorGRDLCWxO"
      }
    },
    {
      "cell_type": "code",
      "source": [
        "mytuple = ()#empty tuple\n",
        "mytuple = (\"Max\",28,\"Boston\")\n",
        "tup = (9)\n",
        "print(type(tup))\n",
        "tup1 = (9,)\n",
        "print(type(tup1))\n"
      ],
      "metadata": {
        "colab": {
          "base_uri": "https://localhost:8080/"
        },
        "id": "AvAxE3csDu0o",
        "outputId": "e3325912-801a-4768-d6a4-cd355d91c8f7"
      },
      "execution_count": 75,
      "outputs": [
        {
          "output_type": "stream",
          "name": "stdout",
          "text": [
            "<class 'int'>\n",
            "<class 'tuple'>\n"
          ]
        }
      ]
    },
    {
      "cell_type": "code",
      "source": [
        "print(mytuple[0])\n",
        "print(mytuple[1])\n",
        "print(mytuple[2])\n"
      ],
      "metadata": {
        "colab": {
          "base_uri": "https://localhost:8080/"
        },
        "id": "vptSX9M5EeWM",
        "outputId": "dfe7e6d0-43cd-4c4a-efcb-8e2114c27f97"
      },
      "execution_count": 76,
      "outputs": [
        {
          "output_type": "stream",
          "name": "stdout",
          "text": [
            "Max\n",
            "28\n",
            "Boston\n"
          ]
        }
      ]
    },
    {
      "cell_type": "code",
      "source": [
        "for i in mytuple:\n",
        "  print(i)"
      ],
      "metadata": {
        "colab": {
          "base_uri": "https://localhost:8080/"
        },
        "id": "Q1QXcdscEstq",
        "outputId": "ee835eb2-4757-4e59-db87-b068742056c1"
      },
      "execution_count": 77,
      "outputs": [
        {
          "output_type": "stream",
          "name": "stdout",
          "text": [
            "Max\n",
            "28\n",
            "Boston\n"
          ]
        }
      ]
    },
    {
      "cell_type": "code",
      "source": [
        "if \"Max\" in mytuple:\n",
        "  print(\"yes\")\n",
        "else:\n",
        "  print(\"Not present\")"
      ],
      "metadata": {
        "colab": {
          "base_uri": "https://localhost:8080/"
        },
        "id": "eZux0EzAE2oM",
        "outputId": "249a8ff4-dcfb-4037-8466-b69da1d26d73"
      },
      "execution_count": 79,
      "outputs": [
        {
          "output_type": "stream",
          "name": "stdout",
          "text": [
            "yes\n"
          ]
        }
      ]
    },
    {
      "cell_type": "code",
      "source": [
        "str1 = \"Max\"\n",
        "print(type(str1))\n"
      ],
      "metadata": {
        "colab": {
          "base_uri": "https://localhost:8080/"
        },
        "id": "YNMfA1qSGtKw",
        "outputId": "b118058e-c131-4c4e-95f0-23e66222c4d3"
      },
      "execution_count": 87,
      "outputs": [
        {
          "output_type": "stream",
          "name": "stdout",
          "text": [
            "<class 'str'>\n"
          ]
        }
      ]
    },
    {
      "cell_type": "code",
      "source": [
        "#length of the tuple\n",
        "len(mytuple)"
      ],
      "metadata": {
        "colab": {
          "base_uri": "https://localhost:8080/"
        },
        "id": "7XgkL4gTFPY7",
        "outputId": "633195c6-da6b-49be-c51a-b069e6c8bffe"
      },
      "execution_count": 80,
      "outputs": [
        {
          "output_type": "execute_result",
          "data": {
            "text/plain": [
              "3"
            ]
          },
          "metadata": {},
          "execution_count": 80
        }
      ]
    },
    {
      "cell_type": "code",
      "source": [
        "my_tuple = ('a','p','p','l','e')\n",
        "print(my_tuple.count('p'))\n",
        "print(my_tuple.index('a'))"
      ],
      "metadata": {
        "colab": {
          "base_uri": "https://localhost:8080/"
        },
        "id": "uz9E-rvhFYdg",
        "outputId": "0f32b2b2-40dd-4e4b-ab45-9d25cb689971"
      },
      "execution_count": 82,
      "outputs": [
        {
          "output_type": "stream",
          "name": "stdout",
          "text": [
            "2\n",
            "0\n"
          ]
        }
      ]
    },
    {
      "cell_type": "code",
      "source": [
        "str1 = \"Tanya\"\n",
        "print(tuple(str1))"
      ],
      "metadata": {
        "colab": {
          "base_uri": "https://localhost:8080/"
        },
        "id": "Uk7ISzLDF1Un",
        "outputId": "d828062f-2b6e-48c1-ba87-87a9db06700d"
      },
      "execution_count": 83,
      "outputs": [
        {
          "output_type": "stream",
          "name": "stdout",
          "text": [
            "('T', 'a', 'n', 'y', 'a')\n"
          ]
        }
      ]
    },
    {
      "cell_type": "code",
      "source": [
        "print(list(my_tuple))\n",
        "#print(str(my_tuple))"
      ],
      "metadata": {
        "colab": {
          "base_uri": "https://localhost:8080/"
        },
        "id": "ZtlVqlhqGG0N",
        "outputId": "c82625c9-a622-4680-f8be-3a0b40b566a4"
      },
      "execution_count": 89,
      "outputs": [
        {
          "output_type": "stream",
          "name": "stdout",
          "text": [
            "['a', 'p', 'p', 'l', 'e']\n"
          ]
        }
      ]
    },
    {
      "cell_type": "code",
      "source": [
        "#packing and unpacking of values\n",
        "a = (1,2,3)\n",
        "x,y,z = a #unpacking values\n",
        "print(x)\n",
        "print(y)\n",
        "print(z)\n",
        "\n"
      ],
      "metadata": {
        "colab": {
          "base_uri": "https://localhost:8080/"
        },
        "id": "uOb7HJUAG-qc",
        "outputId": "65a62bfe-20f3-4f9b-979c-74d74763231e"
      },
      "execution_count": 93,
      "outputs": [
        {
          "output_type": "stream",
          "name": "stdout",
          "text": [
            "1\n",
            "2\n",
            "3\n"
          ]
        }
      ]
    },
    {
      "cell_type": "code",
      "source": [
        "a = tuple(range(11))\n",
        "a"
      ],
      "metadata": {
        "colab": {
          "base_uri": "https://localhost:8080/"
        },
        "id": "MLq4q8zXIAeq",
        "outputId": "17c522d7-8f7b-486a-93d6-cfe08eb46674"
      },
      "execution_count": 96,
      "outputs": [
        {
          "output_type": "execute_result",
          "data": {
            "text/plain": [
              "(0, 1, 2, 3, 4, 5, 6, 7, 8, 9, 10)"
            ]
          },
          "metadata": {},
          "execution_count": 96
        }
      ]
    },
    {
      "cell_type": "code",
      "source": [
        "print(a[0:3])\n",
        "print(a[1:])\n",
        "print(a[::2])\n",
        "print(a[::-1])"
      ],
      "metadata": {
        "colab": {
          "base_uri": "https://localhost:8080/"
        },
        "id": "8sBg7HP8H_Fn",
        "outputId": "2140afa6-81e1-4fd6-bfa3-27e7fe607ed1"
      },
      "execution_count": 97,
      "outputs": [
        {
          "output_type": "stream",
          "name": "stdout",
          "text": [
            "(0, 1, 2)\n",
            "(1, 2, 3, 4, 5, 6, 7, 8, 9, 10)\n",
            "(0, 2, 4, 6, 8, 10)\n",
            "(10, 9, 8, 7, 6, 5, 4, 3, 2, 1, 0)\n"
          ]
        }
      ]
    },
    {
      "cell_type": "code",
      "source": [
        "#write a program to find product of all elements in tuple\n",
        "a1 = (1,2,3,4,5)\n",
        "prod = 1\n",
        "for i in a1:\n",
        "  prod = prod*i\n",
        "print(prod)\n"
      ],
      "metadata": {
        "colab": {
          "base_uri": "https://localhost:8080/"
        },
        "id": "lV4pXt-nIzyS",
        "outputId": "a391d043-c5fa-4c41-e0e1-3ce5b62fd8c9"
      },
      "execution_count": 101,
      "outputs": [
        {
          "output_type": "stream",
          "name": "stdout",
          "text": [
            "120\n"
          ]
        }
      ]
    },
    {
      "cell_type": "code",
      "source": [
        "l1 = [10,20,30,40,50]\n",
        "\n",
        "for i in l1:\n",
        "  j= i*i\n",
        "  print(j)\n"
      ],
      "metadata": {
        "colab": {
          "base_uri": "https://localhost:8080/"
        },
        "id": "_SqeC1tXJ1pi",
        "outputId": "f08dca0f-b5d3-4125-b59a-ea0e3b34c949"
      },
      "execution_count": 103,
      "outputs": [
        {
          "output_type": "stream",
          "name": "stdout",
          "text": [
            "100\n",
            "400\n",
            "900\n",
            "1600\n",
            "2500\n"
          ]
        }
      ]
    }
  ]
}