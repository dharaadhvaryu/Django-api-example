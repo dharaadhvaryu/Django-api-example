{
  "nbformat": 4,
  "nbformat_minor": 0,
  "metadata": {
    "colab": {
      "provenance": [],
      "authorship_tag": "ABX9TyOR/prEqA75gJiX9iTSujeI",
      "include_colab_link": true
    },
    "kernelspec": {
      "name": "python3",
      "display_name": "Python 3"
    },
    "language_info": {
      "name": "python"
    }
  },
  "cells": [
    {
      "cell_type": "markdown",
      "metadata": {
        "id": "view-in-github",
        "colab_type": "text"
      },
      "source": [
        "<a href=\"https://colab.research.google.com/github/dharaadhvaryu/Django-api-example/blob/master/pythonbasic7_oops2.ipynb\" target=\"_parent\"><img src=\"https://colab.research.google.com/assets/colab-badge.svg\" alt=\"Open In Colab\"/></a>"
      ]
    },
    {
      "cell_type": "markdown",
      "source": [
        "Today's Agenda\n",
        "-> Inheritance\n",
        "->Access Specifiers\n",
        "->polymorphism"
      ],
      "metadata": {
        "id": "_oyY_mFMfbO5"
      }
    },
    {
      "cell_type": "code",
      "execution_count": null,
      "metadata": {
        "id": "WB1l8TOFGS35"
      },
      "outputs": [],
      "source": []
    },
    {
      "cell_type": "markdown",
      "source": [
        "Inheritance"
      ],
      "metadata": {
        "id": "meFB4q5GHKFF"
      }
    },
    {
      "cell_type": "markdown",
      "source": [
        "Inheritance - Inheriting attributes or properties from one class to another .\n",
        "In other words we can inheriting properties from parent class to child class.\n",
        "1) Single Inheritance\n",
        "2)multiple Inheritance\n",
        "3)multilevel Inheritance"
      ],
      "metadata": {
        "id": "I-XfI8F8fqZB"
      }
    },
    {
      "cell_type": "markdown",
      "source": [
        "How Inheritance affects our code:\n",
        "1. Reduce code duplication-> sharing attributes and methods of parent class\n",
        "2. Enhance code organization->code is organised into logical hierarchy making it easier to manage and understand.\n",
        "3. Code MAintenance->changes in base/parent class automatically propogate to derived classes ,simplyifying updates and bugfixes\n",
        "4.Supports Polymorphism -> Allows on writing flexible and generic code that operates on objects of different subclasses through parent class interface.\n",
        "5.Promoting reusability of code and Extendibility -> new features can be added to existing system by creating new subclasses,enhancing functionality without altering codebase."
      ],
      "metadata": {
        "id": "ATOLngN2gYBx"
      }
    },
    {
      "cell_type": "markdown",
      "source": [],
      "metadata": {
        "id": "8eHN2xjJfaKE"
      }
    },
    {
      "cell_type": "code",
      "source": [
        "#single Inheritance # we are trying to call init function of parent class into child class by using super()\n",
        "#super() helps us to call the methods of parent class.\n",
        "class SchoolMember:\n",
        "  def __init__(self,name,age):\n",
        "    self.name=name\n",
        "    self.age=age\n",
        "  def describe(self):\n",
        "    print(f\"Name:{self.name},Age:{self.age}\")\n",
        "class Student(SchoolMember):\n",
        "  def __init__(self,name,age,marks,subjects):\n",
        "    super().__init__(name,age)\n",
        "    self.marks = marks\n",
        "    self.subjects = subjects\n",
        "    super().describe()\n",
        "s1 = Student('Alice',23,89,'Maths')\n",
        "print(s1.name)\n",
        "print(s1.age)\n",
        "print(s1.marks)\n",
        "print(s1.subjects)"
      ],
      "metadata": {
        "colab": {
          "base_uri": "https://localhost:8080/"
        },
        "id": "YCn4yaOyjQj3",
        "outputId": "6769fb48-a9d4-4be5-b203-fbead0085889"
      },
      "execution_count": 8,
      "outputs": [
        {
          "output_type": "stream",
          "name": "stdout",
          "text": [
            "Name:Alice,Age:23\n",
            "Alice\n",
            "23\n",
            "89\n",
            "Maths\n"
          ]
        }
      ]
    },
    {
      "cell_type": "code",
      "source": [
        "#vehicle '\n",
        "class Vehicle:\n",
        "    def __init__(self,model,manufacturer,year):\n",
        "        self.model = model\n",
        "        self.manufacturer = manufacturer\n",
        "        self.year = year\n",
        "    def start(self):\n",
        "        print(\"Starting the vehicle...\")\n",
        "    def stop(self):\n",
        "        print(\"Stopping the vehicle...\")\n",
        "    def __str__(self):\n",
        "        return f\"Model: {self.model}, Manufacturer: {self.manufacturer}, Year: {self.year}\""
      ],
      "metadata": {
        "id": "5B7BqywonEBz"
      },
      "execution_count": 20,
      "outputs": []
    },
    {
      "cell_type": "code",
      "source": [
        "class Car(Vehicle):\n",
        "    def __init__(self,model,manufacturer,year,num_doors):\n",
        "        super().__init__(model,manufacturer,year)\n",
        "        self.num_doors = num_doors\n",
        "    def __str__(self):\n",
        "      return f\"car has {super().__str__()} and {self.num_doors}doors\"\n",
        "\n"
      ],
      "metadata": {
        "id": "9Z-l4iFenmmU"
      },
      "execution_count": 21,
      "outputs": []
    },
    {
      "cell_type": "code",
      "source": [
        "class Bike(Vehicle):\n",
        "  def __init__(self,model,manufacturer,year,max_speed,type_bike):\n",
        "    super().__init__(model,manufacturer,year)\n",
        "    self.max_speed = max_speed\n",
        "    self.type_bike = type_bike\n",
        "  def __str__(self):\n",
        "    return f\"bike has  {super().__str__()} and max speed {self.max_speed} and type is {self.type_bike}\""
      ],
      "metadata": {
        "id": "FerRVd3Wou4h"
      },
      "execution_count": 22,
      "outputs": []
    },
    {
      "cell_type": "code",
      "source": [
        "car = Car('Q7','Audi',2022,4)\n",
        "print(car)\n",
        "bike = Bike('Ninja','Kawasaki','2019',120,'sports')\n",
        "print(bike)"
      ],
      "metadata": {
        "colab": {
          "base_uri": "https://localhost:8080/"
        },
        "id": "a2QL8lhjpT0f",
        "outputId": "802d1a1b-1a6c-4a46-b111-e5a2795e8e5d"
      },
      "execution_count": 24,
      "outputs": [
        {
          "output_type": "stream",
          "name": "stdout",
          "text": [
            "car has Model: Q7, Manufacturer: Audi, Year: 2022 and 4doors\n",
            "bike has max speed 120 and type is sports\n"
          ]
        }
      ]
    },
    {
      "cell_type": "code",
      "source": [],
      "metadata": {
        "id": "r9OPMWtbpIHz"
      },
      "execution_count": null,
      "outputs": []
    },
    {
      "cell_type": "code",
      "source": [
        "#Single Inheritance\n",
        "class Parent:\n",
        "    def method_parent(self):\n",
        "        print(\"This is a parent method.\")\n",
        "\n",
        "class Child(Parent):\n",
        "    def method_child(self):\n",
        "        print(\"This is a child method.\")\n"
      ],
      "metadata": {
        "id": "OzZyfU9EHMU5"
      },
      "execution_count": 2,
      "outputs": []
    },
    {
      "cell_type": "code",
      "source": [
        "a = Child()\n",
        "a.method_parent()\n",
        "a.method_child()"
      ],
      "metadata": {
        "colab": {
          "base_uri": "https://localhost:8080/"
        },
        "id": "acEg8__njqD7",
        "outputId": "957cc796-b007-4aaa-94c6-c75f537b4d18"
      },
      "execution_count": 4,
      "outputs": [
        {
          "output_type": "stream",
          "name": "stdout",
          "text": [
            "This is a parent method.\n",
            "This is a child method.\n"
          ]
        }
      ]
    },
    {
      "cell_type": "code",
      "source": [
        "#multiple inheritance\n",
        "class Parent1:\n",
        "    def method_parent1(self):\n",
        "        print(\"This is parent1 method.\")\n",
        "\n",
        "class Parent2:\n",
        "    def method_parent2(self):\n",
        "        print(\"This is parent2 method.\")\n",
        "\n",
        "class Child(Parent1, Parent2):\n",
        "    def method_child(self):\n",
        "        print(\"This is a child method.\")\n"
      ],
      "metadata": {
        "id": "d9JDvGEMHYGE"
      },
      "execution_count": 25,
      "outputs": []
    },
    {
      "cell_type": "code",
      "source": [
        "a = Child()\n",
        "a.method_parent1()\n",
        "a.method_parent2()\n",
        "a.method_child()"
      ],
      "metadata": {
        "colab": {
          "base_uri": "https://localhost:8080/"
        },
        "id": "l9BwllWIsFs2",
        "outputId": "6e517d43-5f26-4a54-8643-ed9e21bead67"
      },
      "execution_count": 26,
      "outputs": [
        {
          "output_type": "stream",
          "name": "stdout",
          "text": [
            "This is parent1 method.\n",
            "This is parent2 method.\n",
            "This is a child method.\n"
          ]
        }
      ]
    },
    {
      "cell_type": "markdown",
      "source": [
        "MRO -> Method Resolution Order\n",
        "In case of inheritance if property or method exists in multiple classes in ancestary ,which one to use during runtime can be known\n",
        "- while evaluating u will always go from left to right\n",
        "- u will consider all childrens first and then parents"
      ],
      "metadata": {
        "id": "fmcRyr2_s3mb"
      }
    },
    {
      "cell_type": "code",
      "source": [
        "#Diamond Inheritance\n",
        "class A:\n",
        "    def method(self):\n",
        "        print(\"Method in A\")\n",
        "\n",
        "class B(A):\n",
        "    def method(self):\n",
        "        print(\"Method in B\")\n",
        "\n",
        "class C(A):\n",
        "    def method(self):\n",
        "        print(\"Method in C\")\n",
        "\n",
        "class D(B, C):\n",
        "    pass\n",
        "\n",
        "d = D()\n",
        "d.method()  # What will this print?\n",
        "print(D.__mro__)\n",
        "print(D.mro())\n"
      ],
      "metadata": {
        "colab": {
          "base_uri": "https://localhost:8080/"
        },
        "id": "5F_plUG4IF5d",
        "outputId": "22420d30-18f8-40b3-f1fc-1ab8d1b0564f"
      },
      "execution_count": 29,
      "outputs": [
        {
          "output_type": "stream",
          "name": "stdout",
          "text": [
            "Method in B\n",
            "(<class '__main__.D'>, <class '__main__.B'>, <class '__main__.C'>, <class '__main__.A'>, <class 'object'>)\n",
            "[<class '__main__.D'>, <class '__main__.B'>, <class '__main__.C'>, <class '__main__.A'>, <class 'object'>]\n"
          ]
        }
      ]
    },
    {
      "cell_type": "code",
      "source": [
        "class A:\n",
        "  x = 10\n",
        "class B(A):\n",
        "  pass\n",
        "class c(B):\n",
        "  pass\n",
        "class D(A):\n",
        "  x = 5\n",
        "class E(c,D):   #E-c-B-D-A\n",
        "  pass\n",
        "d = E()\n",
        "print(d.x)\n",
        "print(E.mro())\n",
        "print(E.__mro__)"
      ],
      "metadata": {
        "colab": {
          "base_uri": "https://localhost:8080/"
        },
        "id": "WbcPxV3yuh4T",
        "outputId": "1c8fd06d-f2d0-4aa2-b911-470749a2cef2"
      },
      "execution_count": 33,
      "outputs": [
        {
          "output_type": "stream",
          "name": "stdout",
          "text": [
            "5\n",
            "[<class '__main__.E'>, <class '__main__.c'>, <class '__main__.B'>, <class '__main__.D'>, <class '__main__.A'>, <class 'object'>]\n",
            "(<class '__main__.E'>, <class '__main__.c'>, <class '__main__.B'>, <class '__main__.D'>, <class '__main__.A'>, <class 'object'>)\n"
          ]
        }
      ]
    },
    {
      "cell_type": "code",
      "source": [
        "#multilevel inheritance\n",
        "class Grandparent:\n",
        "    def method_grandparent(self):\n",
        "        print(\"This is a grandparent method.\")\n",
        "\n",
        "class Parent(Grandparent):\n",
        "    def method_parent(self):\n",
        "        print(\"This is a parent method.\")\n",
        "\n",
        "class Child(Parent):\n",
        "    def method_child(self):\n",
        "        print(\"This is a child method.\")\n"
      ],
      "metadata": {
        "id": "SDTYS27THeSH"
      },
      "execution_count": 35,
      "outputs": []
    },
    {
      "cell_type": "code",
      "source": [
        "a = Child()\n",
        "a.method_grandparent()\n",
        "a.method_parent()\n",
        "a.method_child()"
      ],
      "metadata": {
        "colab": {
          "base_uri": "https://localhost:8080/"
        },
        "id": "VwtT86Saw1sR",
        "outputId": "dcbcb3ff-f30c-418d-f66d-60d082699c7b"
      },
      "execution_count": 36,
      "outputs": [
        {
          "output_type": "stream",
          "name": "stdout",
          "text": [
            "This is a grandparent method.\n",
            "This is a parent method.\n",
            "This is a child method.\n"
          ]
        }
      ]
    },
    {
      "cell_type": "markdown",
      "source": [
        "Library Management"
      ],
      "metadata": {
        "id": "rntNRqWzL6-c"
      }
    },
    {
      "cell_type": "markdown",
      "source": [
        "Base class ----> Item -->Book\n",
        "          ----->Member --->StaffMember\n",
        "           ---->Member-->studentMember"
      ],
      "metadata": {
        "id": "aOhjOywHy6hI"
      }
    },
    {
      "cell_type": "code",
      "source": [
        "class Item:\n",
        "    def __init__(self, title, author, isbn):\n",
        "        self.title = title\n",
        "        self.author = author\n",
        "        self.isbn = isbn\n",
        "        self.available = True\n",
        "\n",
        "    def check_out(self):\n",
        "        if self.available:\n",
        "            self.available = False\n",
        "            print(f\"{self.title} has been checked out.\")\n",
        "        else:\n",
        "            print(f\"{self.title} is currently not available.\")\n",
        "\n",
        "    def check_in(self):\n",
        "        self.available = True\n",
        "        print(f\"{self.title} has been checked in.\")\n"
      ],
      "metadata": {
        "id": "gvDNQRkbL-Dc"
      },
      "execution_count": 37,
      "outputs": []
    },
    {
      "cell_type": "code",
      "source": [
        "class Book(Item):\n",
        "    def __init__(self, title, author, isbn, genre):\n",
        "        super().__init__(title, author, isbn)\n",
        "        self.genre = genre\n",
        "\n",
        "    def __str__(self):\n",
        "        return f\"Book: {self.title}, Author: {self.author}, Genre: {self.genre}, ISBN: {self.isbn}\"\n"
      ],
      "metadata": {
        "id": "ozUkadCjMDrx"
      },
      "execution_count": 38,
      "outputs": []
    },
    {
      "cell_type": "code",
      "source": [
        "class Member:\n",
        "    def __init__(self, member_id, name):\n",
        "        self.member_id = member_id\n",
        "        self.name = name\n",
        "        self.borrowed_items = []\n",
        "\n",
        "    def borrow_item(self, item):\n",
        "        if item.available:\n",
        "            item.check_out()\n",
        "            self.borrowed_items.append(item)\n",
        "        else:\n",
        "            print(f\"{item.title} is not available for borrowing.\")\n",
        "\n",
        "    def return_item(self, item):\n",
        "        if item in self.borrowed_items:\n",
        "            item.check_in()\n",
        "            self.borrowed_items.remove(item)\n",
        "        else:\n",
        "            print(f\"{self.name} did not borrow {item.title}.\")\n"
      ],
      "metadata": {
        "id": "n4hI3LDqMHWb"
      },
      "execution_count": 39,
      "outputs": []
    },
    {
      "cell_type": "code",
      "source": [
        "class StudentMember(Member):\n",
        "    def __init__(self, member_id, name, school):\n",
        "        super().__init__(member_id, name)\n",
        "        self.school = school\n",
        "\n",
        "    def __str__(self):\n",
        "        return f\"Student Member: {self.name}, School: {self.school}, ID: {self.member_id}\"\n"
      ],
      "metadata": {
        "id": "O2LOLtxrMMAw"
      },
      "execution_count": 40,
      "outputs": []
    },
    {
      "cell_type": "code",
      "source": [
        "class StaffMember(Member):\n",
        "    def __init__(self, member_id, name, position):\n",
        "        super().__init__(member_id, name)\n",
        "        self.position = position\n",
        "\n",
        "    def __str__(self):\n",
        "        return f\"Staff Member: {self.name}, Position: {self.position}, ID: {self.member_id}\"\n"
      ],
      "metadata": {
        "id": "r8uKjoO0MPdk"
      },
      "execution_count": null,
      "outputs": []
    },
    {
      "cell_type": "code",
      "source": [
        "class StaffMember(Member):\n",
        "    def __init__(self, member_id, name, position):\n",
        "        super().__init__(member_id, name)\n",
        "        self.position = position\n",
        "\n",
        "    def __str__(self):\n",
        "        return f\"Staff Member: {self.name}, Position: {self.position}, ID: {self.member_id}\"\n"
      ],
      "metadata": {
        "id": "v0gAYsw6MQ87"
      },
      "execution_count": 41,
      "outputs": []
    },
    {
      "cell_type": "code",
      "source": [
        "# Creating book items\n",
        "book1 = Book(\"The Catcher in the Rye\", \"J.D. Salinger\", \"1234567890\", \"Fiction\")\n",
        "book2 = Book(\"To Kill a Mockingbird\", \"Harper Lee\", \"1234567891\", \"Fiction\")\n",
        "\n",
        "# Creating members\n",
        "student = StudentMember(\"S001\", \"Alice Johnson\", \"High School\")\n",
        "staff = StaffMember(\"T001\", \"Mr. Smith\", \"Librarian\")\n",
        "\n",
        "# Borrowing and returning items\n",
        "print(book1)\n",
        "print(student)\n",
        "student.borrow_item(book1)  # Should check out the book\n",
        "student.borrow_item(book1)  # Should indicate the book is not available\n",
        "student.return_item(book1)  # Should check in the book\n",
        "staff.borrow_item(book1)    # Should check out the book for the staff member\n",
        "\n",
        "print(staff)\n"
      ],
      "metadata": {
        "colab": {
          "base_uri": "https://localhost:8080/"
        },
        "id": "yH2gpHKVMWPV",
        "outputId": "d2f7e224-3a74-4b42-c2c9-c61bbd1192c1"
      },
      "execution_count": 42,
      "outputs": [
        {
          "output_type": "stream",
          "name": "stdout",
          "text": [
            "Book: The Catcher in the Rye, Author: J.D. Salinger, Genre: Fiction, ISBN: 1234567890\n",
            "Student Member: Alice Johnson, School: High School, ID: S001\n",
            "The Catcher in the Rye has been checked out.\n",
            "The Catcher in the Rye is not available for borrowing.\n",
            "The Catcher in the Rye has been checked in.\n",
            "The Catcher in the Rye has been checked out.\n",
            "Staff Member: Mr. Smith, Position: Librarian, ID: T001\n"
          ]
        }
      ]
    },
    {
      "cell_type": "markdown",
      "source": [
        "Access Specifiers\n",
        "There are three kinds of access specifiers - 1)public 2)private 3)protected\n",
        "\n",
        "Public :- By default member variables and methods are public which means they can be accessed from anywhere outside or inside class.No public keyword is required to make it public.\n",
        "\n",
        "Private :class Properties and methods with private access modifiers can only be accesed within a class where they are defined and cannot be accesed outside the class. In python private properties are declared by adding __ before the declaration  for ex: __c\n",
        "\n",
        "Protected : Class Properties and Methods with Protected access modifiers can be accessed within the class and from the class that inherits the protected class.\n",
        "protected members and methods are declared using single ('_') as prefix before their names\n",
        "\n",
        "Benefits in terms of emcapsulation,Inheritance and data integrity"
      ],
      "metadata": {
        "id": "b4UodjD31FEn"
      }
    },
    {
      "cell_type": "code",
      "source": [
        "class BankAccount:\n",
        "  def __init__(self,account_number,balance):\n",
        "    self.__account_number = account_number\n",
        "    self.__balance = balance\n",
        "  def deposit(self,amount):\n",
        "    self.balance += amount\n",
        "  def withdraw(self,amount):\n",
        "    if self.balance >= amount:\n",
        "      self.balance -= amount\n",
        "    else:\n",
        "      print(\"Insufficient balance\")\n",
        "  def _display_balance(self):\n",
        "    print(f\"Account Number:{self.__account_number},Balance:{self.__balance}\")"
      ],
      "metadata": {
        "id": "jgOp4nnU4VzU"
      },
      "execution_count": 54,
      "outputs": []
    },
    {
      "cell_type": "code",
      "source": [
        "b = BankAccount(123456,8000)\n",
        "#b.deposit(1000)\n",
        "#b.withdraw(500)\n",
        "b._display_balance()"
      ],
      "metadata": {
        "colab": {
          "base_uri": "https://localhost:8080/"
        },
        "id": "FwUKc6yD41C5",
        "outputId": "f92f259f-367e-4406-ff6a-d4fa7a617385"
      },
      "execution_count": 56,
      "outputs": [
        {
          "output_type": "stream",
          "name": "stdout",
          "text": [
            "Account Number:123456,Balance:8000\n"
          ]
        }
      ]
    },
    {
      "cell_type": "code",
      "source": [],
      "metadata": {
        "id": "mX7BWdmL0zxm"
      },
      "execution_count": null,
      "outputs": []
    },
    {
      "cell_type": "markdown",
      "source": [],
      "metadata": {
        "id": "rrjXhzSsSpKy"
      }
    },
    {
      "cell_type": "code",
      "source": [],
      "metadata": {
        "id": "MZcechWYSnk0"
      },
      "execution_count": null,
      "outputs": []
    }
  ]
}