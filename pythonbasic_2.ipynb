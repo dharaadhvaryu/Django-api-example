{
  "nbformat": 4,
  "nbformat_minor": 0,
  "metadata": {
    "colab": {
      "provenance": [],
      "include_colab_link": true
    },
    "kernelspec": {
      "name": "python3",
      "display_name": "Python 3"
    },
    "language_info": {
      "name": "python"
    }
  },
  "cells": [
    {
      "cell_type": "markdown",
      "metadata": {
        "id": "view-in-github",
        "colab_type": "text"
      },
      "source": [
        "<a href=\"https://colab.research.google.com/github/dharaadhvaryu/Django-api-example/blob/master/pythonbasic_2.ipynb\" target=\"_parent\"><img src=\"https://colab.research.google.com/assets/colab-badge.svg\" alt=\"Open In Colab\"/></a>"
      ]
    },
    {
      "cell_type": "code",
      "execution_count": null,
      "metadata": {
        "id": "tB-NCTSXbZPU"
      },
      "outputs": [],
      "source": []
    },
    {
      "cell_type": "markdown",
      "source": [
        "Day2\n",
        "\n",
        "Agenda\n",
        "\n",
        "Continue Operators\n",
        "Control Statements\n",
        "  IF\n",
        "  IF-ELSE\n",
        "  IF-ELIF-ELSE\n",
        "LOOPS\n",
        "  while loops\n",
        "  For loops\n",
        "\n",
        "  Range()\n",
        "  \n"
      ],
      "metadata": {
        "id": "KmkejrcybdNT"
      }
    },
    {
      "cell_type": "code",
      "source": [
        "#len()-> returns the length of the string\n",
        "\n",
        "name = \"Johnson\"\n",
        "print(len(name))\n"
      ],
      "metadata": {
        "colab": {
          "base_uri": "https://localhost:8080/"
        },
        "id": "znyRozdHhdTj",
        "outputId": "30e0a439-284b-426f-caba-3ac656022988"
      },
      "execution_count": null,
      "outputs": [
        {
          "output_type": "stream",
          "name": "stdout",
          "text": [
            "7\n"
          ]
        }
      ]
    },
    {
      "cell_type": "markdown",
      "source": [
        "Comparison operators\n",
        "(>,<,>=,<=,==,!=)"
      ],
      "metadata": {
        "id": "bRPiA6MhiCrB"
      }
    },
    {
      "cell_type": "code",
      "source": [],
      "metadata": {
        "id": "uJMC1nKHiXQp"
      },
      "execution_count": null,
      "outputs": []
    },
    {
      "cell_type": "code",
      "source": [
        "student1 = 90\n",
        "student2 = 90\n",
        "print(student1 > student2)"
      ],
      "metadata": {
        "colab": {
          "base_uri": "https://localhost:8080/"
        },
        "id": "YgtwMgMpiXyT",
        "outputId": "ee8c8d9a-266a-4918-83a0-730b14980abb"
      },
      "execution_count": null,
      "outputs": [
        {
          "output_type": "stream",
          "name": "stdout",
          "text": [
            "False\n"
          ]
        }
      ]
    },
    {
      "cell_type": "code",
      "source": [
        "student1 == student2"
      ],
      "metadata": {
        "colab": {
          "base_uri": "https://localhost:8080/"
        },
        "id": "KdMlqc76ingr",
        "outputId": "b0272082-d4fe-49a6-b4bd-958ad35b5b54"
      },
      "execution_count": null,
      "outputs": [
        {
          "output_type": "execute_result",
          "data": {
            "text/plain": [
              "True"
            ]
          },
          "metadata": {},
          "execution_count": 7
        }
      ]
    },
    {
      "cell_type": "code",
      "source": [
        "print(3>2)\n",
        "print(3<2)\n",
        "print(3==2)\n",
        "print(3!=2)"
      ],
      "metadata": {
        "colab": {
          "base_uri": "https://localhost:8080/"
        },
        "id": "PbsfCMzni5jP",
        "outputId": "2bb68ab2-c741-415f-9916-24e308f50315"
      },
      "execution_count": null,
      "outputs": [
        {
          "output_type": "stream",
          "name": "stdout",
          "text": [
            "True\n",
            "False\n",
            "False\n",
            "True\n"
          ]
        }
      ]
    },
    {
      "cell_type": "code",
      "source": [
        "print(len('python')>len('dragon'))"
      ],
      "metadata": {
        "colab": {
          "base_uri": "https://localhost:8080/"
        },
        "id": "xCcp_r82jgtM",
        "outputId": "4265aa5c-96af-4a66-f647-bd5e368ef697"
      },
      "execution_count": null,
      "outputs": [
        {
          "output_type": "stream",
          "name": "stdout",
          "text": [
            "False\n"
          ]
        }
      ]
    },
    {
      "cell_type": "markdown",
      "source": [
        "is: Return true if both variables are same\n",
        "is not : Return true if both variables are different\n",
        "\n",
        "1.   List item\n",
        "2.   List item\n",
        "\n"
      ],
      "metadata": {
        "id": "zJJh9funkCH8"
      }
    },
    {
      "cell_type": "code",
      "source": [
        "x = 5\n",
        "y = 6\n",
        "print(x is not y)"
      ],
      "metadata": {
        "colab": {
          "base_uri": "https://localhost:8080/"
        },
        "id": "LFq7fENKkI6s",
        "outputId": "c8f66cfe-3078-40a0-df8a-61d905baa61f"
      },
      "execution_count": null,
      "outputs": [
        {
          "output_type": "stream",
          "name": "stdout",
          "text": [
            "True\n"
          ]
        }
      ]
    },
    {
      "cell_type": "code",
      "source": [
        "a = 'Rejo'\n",
        "b= 'Rejo'\n",
        "print(a is b)"
      ],
      "metadata": {
        "colab": {
          "base_uri": "https://localhost:8080/"
        },
        "id": "oPUTxG4vkrrx",
        "outputId": "696e5bf7-50bf-41aa-8a7e-ab60a59d6899"
      },
      "execution_count": null,
      "outputs": [
        {
          "output_type": "stream",
          "name": "stdout",
          "text": [
            "True\n"
          ]
        }
      ]
    },
    {
      "cell_type": "code",
      "source": [
        "len('mango') < len('avacado')"
      ],
      "metadata": {
        "colab": {
          "base_uri": "https://localhost:8080/"
        },
        "id": "bjbyoOgbjNS2",
        "outputId": "1ee4eec7-aec3-4598-ebdd-8f6002706539"
      },
      "execution_count": null,
      "outputs": [
        {
          "output_type": "execute_result",
          "data": {
            "text/plain": [
              "True"
            ]
          },
          "metadata": {},
          "execution_count": 11
        }
      ]
    },
    {
      "cell_type": "markdown",
      "source": [
        "Assignment Operators\n",
        "x = 5\n",
        "x+=3      x = x+3\n",
        "x-=3      x = x-3\n",
        "x*=3      x=x*3\n",
        "x/=3      x=x/3"
      ],
      "metadata": {
        "id": "SoKYsCf2k2Ut"
      }
    },
    {
      "cell_type": "code",
      "source": [
        "x=1\n",
        "x+=3\n",
        "print(x)"
      ],
      "metadata": {
        "colab": {
          "base_uri": "https://localhost:8080/"
        },
        "id": "Xhz3P0I1leug",
        "outputId": "4c80174e-0f91-4c90-a803-cf1f04adc1dd"
      },
      "execution_count": null,
      "outputs": [
        {
          "output_type": "stream",
          "name": "stdout",
          "text": [
            "4\n"
          ]
        }
      ]
    },
    {
      "cell_type": "code",
      "source": [
        "x=5\n",
        "x**=2\n",
        "print(x)"
      ],
      "metadata": {
        "colab": {
          "base_uri": "https://localhost:8080/"
        },
        "id": "o2cWNrQcll_b",
        "outputId": "5c55b14e-8df7-4369-b323-19ce36be53fb"
      },
      "execution_count": null,
      "outputs": [
        {
          "output_type": "stream",
          "name": "stdout",
          "text": [
            "25\n"
          ]
        }
      ]
    },
    {
      "cell_type": "markdown",
      "source": [
        "Logical Operators - keywords like and , or,not\n",
        "it is used to combine conditional statements\n",
        "\n",
        "and - if all conditions are applied it returns True\n",
        "or - atleast one of them should be applied or correct then it return True\n",
        "not - reverse the result"
      ],
      "metadata": {
        "id": "dzWd8PC7l60i"
      }
    },
    {
      "cell_type": "code",
      "source": [
        "3>2 and 3<4"
      ],
      "metadata": {
        "colab": {
          "base_uri": "https://localhost:8080/"
        },
        "id": "Eh2G4k5amzdY",
        "outputId": "41732b11-a269-4f50-fa35-91144c4e1e8b"
      },
      "execution_count": null,
      "outputs": [
        {
          "output_type": "execute_result",
          "data": {
            "text/plain": [
              "True"
            ]
          },
          "metadata": {},
          "execution_count": 22
        }
      ]
    },
    {
      "cell_type": "code",
      "source": [
        "3<2 or 3<4"
      ],
      "metadata": {
        "colab": {
          "base_uri": "https://localhost:8080/"
        },
        "id": "x7mSaAtNm-xS",
        "outputId": "2064b924-30a3-46ed-bb92-e0e212d67630"
      },
      "execution_count": null,
      "outputs": [
        {
          "output_type": "execute_result",
          "data": {
            "text/plain": [
              "True"
            ]
          },
          "metadata": {},
          "execution_count": 23
        }
      ]
    },
    {
      "cell_type": "code",
      "source": [
        "not(3<2 or 3<4)"
      ],
      "metadata": {
        "colab": {
          "base_uri": "https://localhost:8080/"
        },
        "id": "NtSm1vLjnFcz",
        "outputId": "69f13888-7481-4b5c-e26e-ff4830b4e033"
      },
      "execution_count": null,
      "outputs": [
        {
          "output_type": "execute_result",
          "data": {
            "text/plain": [
              "False"
            ]
          },
          "metadata": {},
          "execution_count": 24
        }
      ]
    },
    {
      "cell_type": "code",
      "source": [
        "print(not True)\n",
        "print(not not True)"
      ],
      "metadata": {
        "colab": {
          "base_uri": "https://localhost:8080/"
        },
        "id": "RRzKVFa9nS1d",
        "outputId": "d14171ab-ed5c-4196-d816-e34bd319ec25"
      },
      "execution_count": null,
      "outputs": [
        {
          "output_type": "stream",
          "name": "stdout",
          "text": [
            "False\n",
            "True\n"
          ]
        }
      ]
    },
    {
      "cell_type": "code",
      "source": [
        "#bool()\n",
        "#Every number except 0 in bool() is True\n",
        "#Every non empty string is True"
      ],
      "metadata": {
        "id": "AcLIC1Fdnkj2"
      },
      "execution_count": null,
      "outputs": []
    },
    {
      "cell_type": "code",
      "source": [
        "print(bool(1))\n",
        "print(bool(0))\n",
        "print(bool(-12))\n"
      ],
      "metadata": {
        "colab": {
          "base_uri": "https://localhost:8080/"
        },
        "id": "nxKnWguxny4-",
        "outputId": "40d21a46-98ed-4cee-b1d9-2f0fea32bb19"
      },
      "execution_count": null,
      "outputs": [
        {
          "output_type": "stream",
          "name": "stdout",
          "text": [
            "True\n",
            "False\n",
            "True\n"
          ]
        }
      ]
    },
    {
      "cell_type": "code",
      "source": [
        "print(bool('abcd'))\n",
        "print(bool(''))\n",
        "print(bool(' '))"
      ],
      "metadata": {
        "colab": {
          "base_uri": "https://localhost:8080/"
        },
        "id": "qJ0nZs4soFUt",
        "outputId": "567babdc-934a-4f46-e296-e94cbaa08e02"
      },
      "execution_count": null,
      "outputs": [
        {
          "output_type": "stream",
          "name": "stdout",
          "text": [
            "True\n",
            "False\n",
            "True\n"
          ]
        }
      ]
    },
    {
      "cell_type": "markdown",
      "source": [
        "1.Find the Length of two given words and compare it\n",
        "2.Find the len of text and convert it to float and then to string\n",
        "3.check if type of 10 is equal to type of '10'"
      ],
      "metadata": {
        "id": "Tvo311mPosXd"
      }
    },
    {
      "cell_type": "code",
      "source": [
        "#2\n",
        "text1 = 'bombay'\n",
        "x = str(float(len(text1)))\n",
        "print(x)\n",
        "print(type(x))"
      ],
      "metadata": {
        "colab": {
          "base_uri": "https://localhost:8080/"
        },
        "id": "iw84hvFEoFL4",
        "outputId": "a15f083f-d1fe-4a41-8c74-a84f27b385db"
      },
      "execution_count": null,
      "outputs": [
        {
          "output_type": "stream",
          "name": "stdout",
          "text": [
            "6.0\n",
            "<class 'str'>\n"
          ]
        }
      ]
    },
    {
      "cell_type": "code",
      "source": [
        "#3\n",
        "print(type(10)==type('10'))"
      ],
      "metadata": {
        "colab": {
          "base_uri": "https://localhost:8080/"
        },
        "id": "evNGLAloqw1k",
        "outputId": "6b23393a-92f9-45b2-9660-0ff0c079f0bf"
      },
      "execution_count": null,
      "outputs": [
        {
          "output_type": "stream",
          "name": "stdout",
          "text": [
            "False\n"
          ]
        }
      ]
    },
    {
      "cell_type": "code",
      "source": [],
      "metadata": {
        "id": "njrrFD3EpTDS"
      },
      "execution_count": null,
      "outputs": []
    },
    {
      "cell_type": "markdown",
      "source": [
        "Control Statements\n",
        " - We use control statements to help computer make decision based on conditions\n",
        "\n",
        " If Condition\n",
        " keyword if is used to check whether given condition is true or not\n"
      ],
      "metadata": {
        "id": "NOO0tx4jpTfT"
      }
    },
    {
      "cell_type": "code",
      "source": [
        "#syntax\n",
        "# if condition:\n",
        "#     print()\n",
        "\n",
        "#Indentation in python is a way of grouping related code together forming it one block of code.\n",
        "# It refers to the space at the begining of the code line\n",
        "#same spacing for all statements that are together\n"
      ],
      "metadata": {
        "id": "2tXHNen0sW0V"
      },
      "execution_count": null,
      "outputs": []
    },
    {
      "cell_type": "code",
      "source": [
        "if 3>2:\n",
        "  print('True')\n",
        "  print('3 is greater than 2')\n",
        "print(1)"
      ],
      "metadata": {
        "colab": {
          "base_uri": "https://localhost:8080/"
        },
        "id": "0iuIGgI4tOXU",
        "outputId": "73eed545-6348-4695-a210-13df789858e7"
      },
      "execution_count": null,
      "outputs": [
        {
          "output_type": "stream",
          "name": "stdout",
          "text": [
            "True\n",
            "3 is greater than 2\n",
            "1\n"
          ]
        }
      ]
    },
    {
      "cell_type": "code",
      "source": [
        "age = 2\n",
        "if age>=18:\n",
        "  print('eligible')\n"
      ],
      "metadata": {
        "id": "UOz39JoCuFr3"
      },
      "execution_count": null,
      "outputs": []
    },
    {
      "cell_type": "code",
      "source": [
        "print(1)#it will always be printed\n",
        "if 10>20:\n",
        "  print(2)\n",
        "  print(10)\n",
        "print('Done') #It will always be printed"
      ],
      "metadata": {
        "colab": {
          "base_uri": "https://localhost:8080/"
        },
        "id": "zyjBR88Uu46B",
        "outputId": "c516d3a5-c665-4c6e-e0d4-60440570524c"
      },
      "execution_count": null,
      "outputs": [
        {
          "output_type": "stream",
          "name": "stdout",
          "text": [
            "1\n",
            "Done\n"
          ]
        }
      ]
    },
    {
      "cell_type": "markdown",
      "source": [
        "if condition:\n",
        "    statements ---> if block\n",
        "else:\n",
        "    statements ----> else block"
      ],
      "metadata": {
        "id": "DByAW6nfvuOw"
      }
    },
    {
      "cell_type": "code",
      "source": [
        "age = int(input('Enter the user age'))\n",
        "if age>=18:\n",
        "  print('eligible to vote')\n",
        "else:\n",
        "  print('not eligible to vote')"
      ],
      "metadata": {
        "colab": {
          "base_uri": "https://localhost:8080/"
        },
        "id": "zJLsDoI9wGOc",
        "outputId": "a6862948-4e3e-4f47-daae-64d298a34224"
      },
      "execution_count": null,
      "outputs": [
        {
          "output_type": "stream",
          "name": "stdout",
          "text": [
            "Enter the user age12\n",
            "not eligible to vote\n"
          ]
        }
      ]
    },
    {
      "cell_type": "code",
      "source": [],
      "metadata": {
        "id": "lC3XopBexBp8"
      },
      "execution_count": null,
      "outputs": []
    },
    {
      "cell_type": "code",
      "source": [
        "a = 2\n",
        "res = a**5\n",
        "if res>25:\n",
        "  print('Greater value')\n",
        "else:\n",
        "  print('smaller value')\n",
        "print(res)"
      ],
      "metadata": {
        "colab": {
          "base_uri": "https://localhost:8080/"
        },
        "id": "GZruBQtHwpN-",
        "outputId": "d2dddf41-a0c9-4ab4-ca89-ffb52438c4ef"
      },
      "execution_count": null,
      "outputs": [
        {
          "output_type": "stream",
          "name": "stdout",
          "text": [
            "Greater value\n",
            "32\n"
          ]
        }
      ]
    },
    {
      "cell_type": "markdown",
      "source": [
        "Check  if the given number is even or odd"
      ],
      "metadata": {
        "id": "E1dAiKgRxrQg"
      }
    },
    {
      "cell_type": "code",
      "source": [
        "num = int(input())\n",
        "if num%2==0:\n",
        "  print('even number')\n",
        "else:\n",
        "  print('odd number')"
      ],
      "metadata": {
        "colab": {
          "base_uri": "https://localhost:8080/"
        },
        "id": "eLKKK4zyx-At",
        "outputId": "127231ee-3c93-437b-90ef-48403f9e3da0"
      },
      "execution_count": null,
      "outputs": [
        {
          "output_type": "stream",
          "name": "stdout",
          "text": [
            "4\n",
            "even number\n"
          ]
        }
      ]
    },
    {
      "cell_type": "code",
      "source": [
        "username = 'xyz'\n",
        "password = '123@xyz'\n",
        "if password == '123@xyz':\n",
        "  print('welcome')\n",
        "else:\n",
        "  print('password is incorrect')"
      ],
      "metadata": {
        "colab": {
          "base_uri": "https://localhost:8080/"
        },
        "id": "N_Am1yNLyoDs",
        "outputId": "47b63b98-2344-4234-bf69-7c6e23b25277"
      },
      "execution_count": null,
      "outputs": [
        {
          "output_type": "stream",
          "name": "stdout",
          "text": [
            "welcome\n"
          ]
        }
      ]
    },
    {
      "cell_type": "code",
      "source": [
        "password = input('enter new password')\n",
        "if len(password)>6:\n",
        "  print('valid password')\n",
        "else:\n",
        "  print('give password more than 6 letters')"
      ],
      "metadata": {
        "colab": {
          "base_uri": "https://localhost:8080/"
        },
        "id": "d_E09iJszKo6",
        "outputId": "f9276093-21c4-45f1-b910-d7288c4885dd"
      },
      "execution_count": null,
      "outputs": [
        {
          "output_type": "stream",
          "name": "stdout",
          "text": [
            "enter new password123@ss\n",
            "give password more than 6 letters\n"
          ]
        }
      ]
    },
    {
      "cell_type": "markdown",
      "source": [
        "If ELIF ELSE\n",
        "syntax\n",
        "\n",
        "if condition:\n",
        "  code      ----> if block\n",
        "elif condition:\n",
        "  code     -----> elif block\n",
        "else:\n",
        "  code     -----> else block"
      ],
      "metadata": {
        "id": "8N4VTpIEz24W"
      }
    },
    {
      "cell_type": "code",
      "source": [
        "a = int(input())\n",
        "if a>0:\n",
        "  print('positive integer')\n",
        "elif a<0:\n",
        "  print('negative integer')\n",
        "else:\n",
        "  print('it is zero')"
      ],
      "metadata": {
        "colab": {
          "base_uri": "https://localhost:8080/"
        },
        "id": "y9K5Gl6YzWUx",
        "outputId": "20fc3144-b4f0-42c9-d804-e27bb6b7d3a6"
      },
      "execution_count": null,
      "outputs": [
        {
          "output_type": "stream",
          "name": "stdout",
          "text": [
            "0\n",
            "it is zero\n"
          ]
        }
      ]
    },
    {
      "cell_type": "markdown",
      "source": [
        "Do greeting based on different time zone of the particular day"
      ],
      "metadata": {
        "id": "vU3azmvq6D9X"
      }
    },
    {
      "cell_type": "code",
      "source": [
        "time = int(input())\n",
        "if time>00 and time<12:\n",
        "  print('Good Morning')\n",
        "elif time>=12 and time<16:\n",
        "  print('Good Afternoon')\n",
        "elif time>=16 and time<20:\n",
        "  print('Good Evening')\n",
        "else:\n",
        "  print('Good Night')\n"
      ],
      "metadata": {
        "colab": {
          "base_uri": "https://localhost:8080/"
        },
        "id": "urS4CnNW61wG",
        "outputId": "2a1961f5-090b-4e26-db98-7848eb9cc431"
      },
      "execution_count": null,
      "outputs": [
        {
          "output_type": "stream",
          "name": "stdout",
          "text": [
            "7\n",
            "Good Morning\n"
          ]
        }
      ]
    },
    {
      "cell_type": "markdown",
      "source": [
        "Nested if -> It is an if statement placed inside another if statement .This allows you to check multiple conditions in hierachial manner .\n",
        "\n",
        "if condition1:\n",
        "  if condition2:\n",
        "     execute this if condition2 is satisfied\n",
        "     inner block of code\n",
        "  else:\n",
        "     execute this if condition is not satisfied\n",
        "else:\n",
        "    execute this if condition 1 is not satisfied.\n",
        "    "
      ],
      "metadata": {
        "id": "Jt5OgZwP7uzb"
      }
    },
    {
      "cell_type": "code",
      "source": [
        "performance = \"Excellent\"\n",
        "years_of_experience = 5\n",
        "if performance=='Excellent':\n",
        "  if years_of_experience>=5:\n",
        "    bonus=1000\n",
        "  else:\n",
        "    bonus = 500\n",
        "elif performance =='Good':\n",
        "  if years_of_experience>=5:\n",
        "    bonus = 700\n",
        "  else:\n",
        "    bonus = 300\n",
        "else:\n",
        "  if years_of_experience>=5:\n",
        "    bonus = 400\n",
        "  else:\n",
        "    bonus = 200\n",
        "\n",
        "print(f'the bonus is ${bonus}')"
      ],
      "metadata": {
        "colab": {
          "base_uri": "https://localhost:8080/"
        },
        "id": "pdPHdbxh9Wc9",
        "outputId": "d06a8737-6117-4b43-a95b-d1643744ad31"
      },
      "execution_count": null,
      "outputs": [
        {
          "output_type": "stream",
          "name": "stdout",
          "text": [
            "the bonus is $1000\n"
          ]
        }
      ]
    },
    {
      "cell_type": "code",
      "source": [
        "a = 2\n",
        "if a>0 and a%2==0:\n",
        "  print('a is even and positive integer')\n",
        "elif a>0 and a%2!=0:\n",
        "  print('a is odd and positive integer')\n",
        "elif a==0:\n",
        "  print('a is condition')\n",
        "else:\n",
        "  print('a is negative integer')"
      ],
      "metadata": {
        "colab": {
          "base_uri": "https://localhost:8080/"
        },
        "id": "TNN4jUTGAGii",
        "outputId": "01a51736-54b5-430b-bcf1-e0430ec2de6b"
      },
      "execution_count": null,
      "outputs": [
        {
          "output_type": "stream",
          "name": "stdout",
          "text": [
            "a is even and positive integer\n"
          ]
        }
      ]
    },
    {
      "cell_type": "markdown",
      "source": [
        "Loops\n",
        "while loop\n",
        "for loop\n"
      ],
      "metadata": {
        "id": "Ey7qSPNiA4DA"
      }
    },
    {
      "cell_type": "code",
      "source": [
        "#while 1.Initialization2.condition3.action4.updation\n",
        "count = 0  # initialization\n",
        "while count<5:\n",
        "  print('click')\n",
        "  count = count +1 #updation #count+=1\n",
        "print('Done')"
      ],
      "metadata": {
        "colab": {
          "base_uri": "https://localhost:8080/"
        },
        "id": "H3jl6_tSBZ2n",
        "outputId": "deeb7a03-d0da-4f0e-aae3-be361afe5004"
      },
      "execution_count": null,
      "outputs": [
        {
          "output_type": "stream",
          "name": "stdout",
          "text": [
            "click\n",
            "click\n",
            "click\n",
            "click\n",
            "click\n",
            "Done\n"
          ]
        }
      ]
    },
    {
      "cell_type": "code",
      "source": [
        "#print the number from 1 to 5\n",
        "num = 1\n",
        "while num<=5:\n",
        "  print(num,end = ' ')\n",
        "  num+=1\n",
        "\n",
        "print('numbers are Done')\n",
        "print(1,2,3,4,sep='|')"
      ],
      "metadata": {
        "colab": {
          "base_uri": "https://localhost:8080/"
        },
        "id": "_1esvZdyCnuV",
        "outputId": "8a402e78-df69-4957-853f-f6399fdaa058"
      },
      "execution_count": null,
      "outputs": [
        {
          "output_type": "stream",
          "name": "stdout",
          "text": [
            "1 2 3 4 5 numbers are Done\n",
            "1|2|3|4\n"
          ]
        }
      ]
    },
    {
      "cell_type": "code",
      "source": [
        "#list -> it is collection of items\n",
        "list = [1,2,3,4,5]\n",
        "print(list)"
      ],
      "metadata": {
        "colab": {
          "base_uri": "https://localhost:8080/"
        },
        "id": "3chBcNoXEBeD",
        "outputId": "9301c7cb-fe4a-43e2-9355-9b54f0ea9e54"
      },
      "execution_count": null,
      "outputs": [
        {
          "output_type": "stream",
          "name": "stdout",
          "text": [
            "[1, 2, 3, 4, 5]\n"
          ]
        }
      ]
    },
    {
      "cell_type": "code",
      "source": [
        "#range()-> Returns a range of integers  # range(start,end,step)\n",
        "print(range(5))\n",
        "\n",
        "for val in range(5):\n",
        "  print(val,end=' ')\n",
        "print()\n",
        "for v in range(0,6,2):\n",
        "  print(v,end=' ')"
      ],
      "metadata": {
        "colab": {
          "base_uri": "https://localhost:8080/"
        },
        "id": "xoHVYEK-FcTM",
        "outputId": "7dc36f1e-a26a-4139-a17e-d269c056dc5f"
      },
      "execution_count": null,
      "outputs": [
        {
          "output_type": "stream",
          "name": "stdout",
          "text": [
            "range(0, 5)\n",
            "0 1 2 3 4 \n",
            "0 2 4 "
          ]
        }
      ]
    }
  ]
}